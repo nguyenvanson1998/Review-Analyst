{
 "cells": [
  {
   "cell_type": "markdown",
   "metadata": {},
   "source": [
    "# Preprocess\n",
    "    Load data to pandas\n",
    "    Convert labels to binary vectors\n"
   ]
  },
  {
   "cell_type": "code",
   "execution_count": 1,
   "metadata": {},
   "outputs": [],
   "source": [
    "# !pip3 install pandas"
   ]
  },
  {
   "cell_type": "code",
   "execution_count": 2,
   "metadata": {},
   "outputs": [],
   "source": [
    "import numpy"
   ]
  },
  {
   "cell_type": "code",
   "execution_count": 5,
   "metadata": {},
   "outputs": [
    {
     "name": "stdout",
     "output_type": "stream",
     "text": [
      "length original data:  2965\n",
      "length clean data:  2965\n"
     ]
    }
   ],
   "source": [
    "import pandas as pd\n",
    "\n",
    "dt_path = \"./Data/train-problem2.csv\"\n",
    "raw_data = pd.read_csv(dt_path, delimiter=',', header=0,encoding=\"utf8\")\n",
    "print('length original data: ', len(raw_data))\n",
    "\n",
    "import joblib\n",
    "def read_data(data_file):\n",
    "    return joblib.load(data_file)\n",
    "\n",
    "data_file = 'Data/clean-train.z'\n",
    "clean_data = read_data(data_file)\n",
    "print('length clean data: ', len(clean_data))"
   ]
  },
  {
   "cell_type": "code",
   "execution_count": 6,
   "metadata": {},
   "outputs": [
    {
     "data": {
      "text/plain": [
       "Review    0\n",
       "a0        0\n",
       "a1        0\n",
       "a2        0\n",
       "a3        0\n",
       "a4        0\n",
       "a5        0\n",
       "Name: 145, dtype: object"
      ]
     },
     "execution_count": 6,
     "metadata": {},
     "output_type": "execute_result"
    }
   ],
   "source": [
    "raw_data.iloc[145, :]"
   ]
  },
  {
   "cell_type": "code",
   "execution_count": 8,
   "metadata": {},
   "outputs": [
    {
     "data": {
      "text/html": [
       "<div>\n",
       "<style scoped>\n",
       "    .dataframe tbody tr th:only-of-type {\n",
       "        vertical-align: middle;\n",
       "    }\n",
       "\n",
       "    .dataframe tbody tr th {\n",
       "        vertical-align: top;\n",
       "    }\n",
       "\n",
       "    .dataframe thead th {\n",
       "        text-align: right;\n",
       "    }\n",
       "</style>\n",
       "<table border=\"1\" class=\"dataframe\">\n",
       "  <thead>\n",
       "    <tr style=\"text-align: right;\">\n",
       "      <th></th>\n",
       "      <th>Review</th>\n",
       "      <th>a0</th>\n",
       "      <th>a1</th>\n",
       "      <th>a2</th>\n",
       "      <th>a3</th>\n",
       "      <th>a4</th>\n",
       "      <th>a5</th>\n",
       "    </tr>\n",
       "  </thead>\n",
       "  <tbody>\n",
       "    <tr>\n",
       "      <th>0</th>\n",
       "      <td>Bánh rất nhiều tôm to, tôm giòn nằm chễm chệ t...</td>\n",
       "      <td>0</td>\n",
       "      <td>0</td>\n",
       "      <td>0</td>\n",
       "      <td>5</td>\n",
       "      <td>0</td>\n",
       "      <td>0</td>\n",
       "    </tr>\n",
       "    <tr>\n",
       "      <th>1</th>\n",
       "      <td>Đi Quy Nhơn cứ lo không có pizza ăn nhưng nhờ ...</td>\n",
       "      <td>0</td>\n",
       "      <td>0</td>\n",
       "      <td>0</td>\n",
       "      <td>5</td>\n",
       "      <td>0</td>\n",
       "      <td>0</td>\n",
       "    </tr>\n",
       "    <tr>\n",
       "      <th>2</th>\n",
       "      <td>các món ăn ở đây không có gì đặc sắc, có lẽ nấ...</td>\n",
       "      <td>0</td>\n",
       "      <td>0</td>\n",
       "      <td>1</td>\n",
       "      <td>1</td>\n",
       "      <td>0</td>\n",
       "      <td>0</td>\n",
       "    </tr>\n",
       "    <tr>\n",
       "      <th>3</th>\n",
       "      <td>Lần thứ 2 quay lại đây, vì giới thiệu quán cà ...</td>\n",
       "      <td>0</td>\n",
       "      <td>0</td>\n",
       "      <td>0</td>\n",
       "      <td>2</td>\n",
       "      <td>0</td>\n",
       "      <td>0</td>\n",
       "    </tr>\n",
       "    <tr>\n",
       "      <th>4</th>\n",
       "      <td>Rất khuyên bạn nên ghé thăm quán bar thể thao này</td>\n",
       "      <td>3</td>\n",
       "      <td>0</td>\n",
       "      <td>0</td>\n",
       "      <td>0</td>\n",
       "      <td>0</td>\n",
       "      <td>0</td>\n",
       "    </tr>\n",
       "  </tbody>\n",
       "</table>\n",
       "</div>"
      ],
      "text/plain": [
       "                                              Review  a0  a1  a2  a3  a4  a5\n",
       "0  Bánh rất nhiều tôm to, tôm giòn nằm chễm chệ t...   0   0   0   5   0   0\n",
       "1  Đi Quy Nhơn cứ lo không có pizza ăn nhưng nhờ ...   0   0   0   5   0   0\n",
       "2  các món ăn ở đây không có gì đặc sắc, có lẽ nấ...   0   0   1   1   0   0\n",
       "3  Lần thứ 2 quay lại đây, vì giới thiệu quán cà ...   0   0   0   2   0   0\n",
       "4  Rất khuyên bạn nên ghé thăm quán bar thể thao này   3   0   0   0   0   0"
      ]
     },
     "execution_count": 8,
     "metadata": {},
     "output_type": "execute_result"
    }
   ],
   "source": [
    "raw_data.head()"
   ]
  },
  {
   "cell_type": "code",
   "execution_count": 3,
   "metadata": {},
   "outputs": [],
   "source": [
    "dummy_a0 = pd.get_dummies(data['a0'], prefix=\"a0\")\n",
    "dummy_a1 = pd.get_dummies(data['a1'], prefix=\"a1\")\n",
    "dummy_a2 = pd.get_dummies(data['a2'], prefix=\"a2\")\n",
    "dummy_a3 = pd.get_dummies(data['a3'], prefix=\"a3\")\n",
    "dummy_a4 = pd.get_dummies(data['a4'], prefix=\"a4\")\n",
    "dummy_a5 = pd.get_dummies(data['a5'], prefix=\"a5\")\n",
    "dummys = [dummy_a0, dummy_a1, dummy_a2,dummy_a3, dummy_a4, dummy_a5]"
   ]
  },
  {
   "cell_type": "code",
   "execution_count": 4,
   "metadata": {},
   "outputs": [],
   "source": [
    "df = data\n",
    "for dummy in dummys:\n",
    "    df = pd.merge(\n",
    "    left=df,\n",
    "    right=dummy,\n",
    "    left_index=True,\n",
    "    right_index=True,\n",
    "    )"
   ]
  },
  {
   "cell_type": "code",
   "execution_count": 5,
   "metadata": {},
   "outputs": [
    {
     "data": {
      "text/html": [
       "<div>\n",
       "<style scoped>\n",
       "    .dataframe tbody tr th:only-of-type {\n",
       "        vertical-align: middle;\n",
       "    }\n",
       "\n",
       "    .dataframe tbody tr th {\n",
       "        vertical-align: top;\n",
       "    }\n",
       "\n",
       "    .dataframe thead th {\n",
       "        text-align: right;\n",
       "    }\n",
       "</style>\n",
       "<table border=\"1\" class=\"dataframe\">\n",
       "  <thead>\n",
       "    <tr style=\"text-align: right;\">\n",
       "      <th></th>\n",
       "      <th>Review</th>\n",
       "      <th>a0</th>\n",
       "      <th>a1</th>\n",
       "      <th>a2</th>\n",
       "      <th>a3</th>\n",
       "      <th>a4</th>\n",
       "      <th>a5</th>\n",
       "      <th>a0_0</th>\n",
       "      <th>a0_1</th>\n",
       "      <th>a0_2</th>\n",
       "      <th>...</th>\n",
       "      <th>a4_2</th>\n",
       "      <th>a4_3</th>\n",
       "      <th>a4_4</th>\n",
       "      <th>a4_5</th>\n",
       "      <th>a5_0</th>\n",
       "      <th>a5_1</th>\n",
       "      <th>a5_2</th>\n",
       "      <th>a5_3</th>\n",
       "      <th>a5_4</th>\n",
       "      <th>a5_5</th>\n",
       "    </tr>\n",
       "  </thead>\n",
       "  <tbody>\n",
       "    <tr>\n",
       "      <th>0</th>\n",
       "      <td>Bánh rất nhiều tôm to, tôm giòn nằm chễm chệ t...</td>\n",
       "      <td>0</td>\n",
       "      <td>0</td>\n",
       "      <td>0</td>\n",
       "      <td>5</td>\n",
       "      <td>0</td>\n",
       "      <td>0</td>\n",
       "      <td>1</td>\n",
       "      <td>0</td>\n",
       "      <td>0</td>\n",
       "      <td>...</td>\n",
       "      <td>0</td>\n",
       "      <td>0</td>\n",
       "      <td>0</td>\n",
       "      <td>0</td>\n",
       "      <td>1</td>\n",
       "      <td>0</td>\n",
       "      <td>0</td>\n",
       "      <td>0</td>\n",
       "      <td>0</td>\n",
       "      <td>0</td>\n",
       "    </tr>\n",
       "    <tr>\n",
       "      <th>1</th>\n",
       "      <td>Đi Quy Nhơn cứ lo không có pizza ăn nhưng nhờ ...</td>\n",
       "      <td>0</td>\n",
       "      <td>0</td>\n",
       "      <td>0</td>\n",
       "      <td>5</td>\n",
       "      <td>0</td>\n",
       "      <td>0</td>\n",
       "      <td>1</td>\n",
       "      <td>0</td>\n",
       "      <td>0</td>\n",
       "      <td>...</td>\n",
       "      <td>0</td>\n",
       "      <td>0</td>\n",
       "      <td>0</td>\n",
       "      <td>0</td>\n",
       "      <td>1</td>\n",
       "      <td>0</td>\n",
       "      <td>0</td>\n",
       "      <td>0</td>\n",
       "      <td>0</td>\n",
       "      <td>0</td>\n",
       "    </tr>\n",
       "    <tr>\n",
       "      <th>2</th>\n",
       "      <td>các món ăn ở đây không có gì đặc sắc, có lẽ nấ...</td>\n",
       "      <td>0</td>\n",
       "      <td>0</td>\n",
       "      <td>1</td>\n",
       "      <td>1</td>\n",
       "      <td>0</td>\n",
       "      <td>0</td>\n",
       "      <td>1</td>\n",
       "      <td>0</td>\n",
       "      <td>0</td>\n",
       "      <td>...</td>\n",
       "      <td>0</td>\n",
       "      <td>0</td>\n",
       "      <td>0</td>\n",
       "      <td>0</td>\n",
       "      <td>1</td>\n",
       "      <td>0</td>\n",
       "      <td>0</td>\n",
       "      <td>0</td>\n",
       "      <td>0</td>\n",
       "      <td>0</td>\n",
       "    </tr>\n",
       "    <tr>\n",
       "      <th>3</th>\n",
       "      <td>Lần thứ 2 quay lại đây, vì giới thiệu quán cà ...</td>\n",
       "      <td>0</td>\n",
       "      <td>0</td>\n",
       "      <td>0</td>\n",
       "      <td>2</td>\n",
       "      <td>0</td>\n",
       "      <td>0</td>\n",
       "      <td>1</td>\n",
       "      <td>0</td>\n",
       "      <td>0</td>\n",
       "      <td>...</td>\n",
       "      <td>0</td>\n",
       "      <td>0</td>\n",
       "      <td>0</td>\n",
       "      <td>0</td>\n",
       "      <td>1</td>\n",
       "      <td>0</td>\n",
       "      <td>0</td>\n",
       "      <td>0</td>\n",
       "      <td>0</td>\n",
       "      <td>0</td>\n",
       "    </tr>\n",
       "    <tr>\n",
       "      <th>4</th>\n",
       "      <td>Rất khuyên bạn nên ghé thăm quán bar thể thao này</td>\n",
       "      <td>3</td>\n",
       "      <td>0</td>\n",
       "      <td>0</td>\n",
       "      <td>0</td>\n",
       "      <td>0</td>\n",
       "      <td>0</td>\n",
       "      <td>0</td>\n",
       "      <td>0</td>\n",
       "      <td>0</td>\n",
       "      <td>...</td>\n",
       "      <td>0</td>\n",
       "      <td>0</td>\n",
       "      <td>0</td>\n",
       "      <td>0</td>\n",
       "      <td>1</td>\n",
       "      <td>0</td>\n",
       "      <td>0</td>\n",
       "      <td>0</td>\n",
       "      <td>0</td>\n",
       "      <td>0</td>\n",
       "    </tr>\n",
       "  </tbody>\n",
       "</table>\n",
       "<p>5 rows × 43 columns</p>\n",
       "</div>"
      ],
      "text/plain": [
       "                                              Review  a0  a1  a2  a3  a4  a5  \\\n",
       "0  Bánh rất nhiều tôm to, tôm giòn nằm chễm chệ t...   0   0   0   5   0   0   \n",
       "1  Đi Quy Nhơn cứ lo không có pizza ăn nhưng nhờ ...   0   0   0   5   0   0   \n",
       "2  các món ăn ở đây không có gì đặc sắc, có lẽ nấ...   0   0   1   1   0   0   \n",
       "3  Lần thứ 2 quay lại đây, vì giới thiệu quán cà ...   0   0   0   2   0   0   \n",
       "4  Rất khuyên bạn nên ghé thăm quán bar thể thao này   3   0   0   0   0   0   \n",
       "\n",
       "   a0_0  a0_1  a0_2  ...  a4_2  a4_3  a4_4  a4_5  a5_0  a5_1  a5_2  a5_3  \\\n",
       "0     1     0     0  ...     0     0     0     0     1     0     0     0   \n",
       "1     1     0     0  ...     0     0     0     0     1     0     0     0   \n",
       "2     1     0     0  ...     0     0     0     0     1     0     0     0   \n",
       "3     1     0     0  ...     0     0     0     0     1     0     0     0   \n",
       "4     0     0     0  ...     0     0     0     0     1     0     0     0   \n",
       "\n",
       "   a5_4  a5_5  \n",
       "0     0     0  \n",
       "1     0     0  \n",
       "2     0     0  \n",
       "3     0     0  \n",
       "4     0     0  \n",
       "\n",
       "[5 rows x 43 columns]"
      ]
     },
     "execution_count": 5,
     "metadata": {},
     "output_type": "execute_result"
    }
   ],
   "source": [
    "df.head()"
   ]
  },
  {
   "cell_type": "code",
   "execution_count": 6,
   "metadata": {},
   "outputs": [],
   "source": [
    "df_clean = df.drop([\"a0\",\"a1\",\"a2\",\"a3\",\"a4\",\"a5\"], axis =1)"
   ]
  },
  {
   "cell_type": "code",
   "execution_count": 7,
   "metadata": {},
   "outputs": [
    {
     "data": {
      "text/html": [
       "<div>\n",
       "<style scoped>\n",
       "    .dataframe tbody tr th:only-of-type {\n",
       "        vertical-align: middle;\n",
       "    }\n",
       "\n",
       "    .dataframe tbody tr th {\n",
       "        vertical-align: top;\n",
       "    }\n",
       "\n",
       "    .dataframe thead th {\n",
       "        text-align: right;\n",
       "    }\n",
       "</style>\n",
       "<table border=\"1\" class=\"dataframe\">\n",
       "  <thead>\n",
       "    <tr style=\"text-align: right;\">\n",
       "      <th></th>\n",
       "      <th>Review</th>\n",
       "      <th>a0_0</th>\n",
       "      <th>a0_1</th>\n",
       "      <th>a0_2</th>\n",
       "      <th>a0_3</th>\n",
       "      <th>a0_4</th>\n",
       "      <th>a0_5</th>\n",
       "      <th>a1_0</th>\n",
       "      <th>a1_1</th>\n",
       "      <th>a1_2</th>\n",
       "      <th>...</th>\n",
       "      <th>a4_2</th>\n",
       "      <th>a4_3</th>\n",
       "      <th>a4_4</th>\n",
       "      <th>a4_5</th>\n",
       "      <th>a5_0</th>\n",
       "      <th>a5_1</th>\n",
       "      <th>a5_2</th>\n",
       "      <th>a5_3</th>\n",
       "      <th>a5_4</th>\n",
       "      <th>a5_5</th>\n",
       "    </tr>\n",
       "  </thead>\n",
       "  <tbody>\n",
       "    <tr>\n",
       "      <th>0</th>\n",
       "      <td>Bánh rất nhiều tôm to, tôm giòn nằm chễm chệ t...</td>\n",
       "      <td>1</td>\n",
       "      <td>0</td>\n",
       "      <td>0</td>\n",
       "      <td>0</td>\n",
       "      <td>0</td>\n",
       "      <td>0</td>\n",
       "      <td>1</td>\n",
       "      <td>0</td>\n",
       "      <td>0</td>\n",
       "      <td>...</td>\n",
       "      <td>0</td>\n",
       "      <td>0</td>\n",
       "      <td>0</td>\n",
       "      <td>0</td>\n",
       "      <td>1</td>\n",
       "      <td>0</td>\n",
       "      <td>0</td>\n",
       "      <td>0</td>\n",
       "      <td>0</td>\n",
       "      <td>0</td>\n",
       "    </tr>\n",
       "    <tr>\n",
       "      <th>1</th>\n",
       "      <td>Đi Quy Nhơn cứ lo không có pizza ăn nhưng nhờ ...</td>\n",
       "      <td>1</td>\n",
       "      <td>0</td>\n",
       "      <td>0</td>\n",
       "      <td>0</td>\n",
       "      <td>0</td>\n",
       "      <td>0</td>\n",
       "      <td>1</td>\n",
       "      <td>0</td>\n",
       "      <td>0</td>\n",
       "      <td>...</td>\n",
       "      <td>0</td>\n",
       "      <td>0</td>\n",
       "      <td>0</td>\n",
       "      <td>0</td>\n",
       "      <td>1</td>\n",
       "      <td>0</td>\n",
       "      <td>0</td>\n",
       "      <td>0</td>\n",
       "      <td>0</td>\n",
       "      <td>0</td>\n",
       "    </tr>\n",
       "    <tr>\n",
       "      <th>2</th>\n",
       "      <td>các món ăn ở đây không có gì đặc sắc, có lẽ nấ...</td>\n",
       "      <td>1</td>\n",
       "      <td>0</td>\n",
       "      <td>0</td>\n",
       "      <td>0</td>\n",
       "      <td>0</td>\n",
       "      <td>0</td>\n",
       "      <td>1</td>\n",
       "      <td>0</td>\n",
       "      <td>0</td>\n",
       "      <td>...</td>\n",
       "      <td>0</td>\n",
       "      <td>0</td>\n",
       "      <td>0</td>\n",
       "      <td>0</td>\n",
       "      <td>1</td>\n",
       "      <td>0</td>\n",
       "      <td>0</td>\n",
       "      <td>0</td>\n",
       "      <td>0</td>\n",
       "      <td>0</td>\n",
       "    </tr>\n",
       "    <tr>\n",
       "      <th>3</th>\n",
       "      <td>Lần thứ 2 quay lại đây, vì giới thiệu quán cà ...</td>\n",
       "      <td>1</td>\n",
       "      <td>0</td>\n",
       "      <td>0</td>\n",
       "      <td>0</td>\n",
       "      <td>0</td>\n",
       "      <td>0</td>\n",
       "      <td>1</td>\n",
       "      <td>0</td>\n",
       "      <td>0</td>\n",
       "      <td>...</td>\n",
       "      <td>0</td>\n",
       "      <td>0</td>\n",
       "      <td>0</td>\n",
       "      <td>0</td>\n",
       "      <td>1</td>\n",
       "      <td>0</td>\n",
       "      <td>0</td>\n",
       "      <td>0</td>\n",
       "      <td>0</td>\n",
       "      <td>0</td>\n",
       "    </tr>\n",
       "    <tr>\n",
       "      <th>4</th>\n",
       "      <td>Rất khuyên bạn nên ghé thăm quán bar thể thao này</td>\n",
       "      <td>0</td>\n",
       "      <td>0</td>\n",
       "      <td>0</td>\n",
       "      <td>1</td>\n",
       "      <td>0</td>\n",
       "      <td>0</td>\n",
       "      <td>1</td>\n",
       "      <td>0</td>\n",
       "      <td>0</td>\n",
       "      <td>...</td>\n",
       "      <td>0</td>\n",
       "      <td>0</td>\n",
       "      <td>0</td>\n",
       "      <td>0</td>\n",
       "      <td>1</td>\n",
       "      <td>0</td>\n",
       "      <td>0</td>\n",
       "      <td>0</td>\n",
       "      <td>0</td>\n",
       "      <td>0</td>\n",
       "    </tr>\n",
       "  </tbody>\n",
       "</table>\n",
       "<p>5 rows × 37 columns</p>\n",
       "</div>"
      ],
      "text/plain": [
       "                                              Review  a0_0  a0_1  a0_2  a0_3  \\\n",
       "0  Bánh rất nhiều tôm to, tôm giòn nằm chễm chệ t...     1     0     0     0   \n",
       "1  Đi Quy Nhơn cứ lo không có pizza ăn nhưng nhờ ...     1     0     0     0   \n",
       "2  các món ăn ở đây không có gì đặc sắc, có lẽ nấ...     1     0     0     0   \n",
       "3  Lần thứ 2 quay lại đây, vì giới thiệu quán cà ...     1     0     0     0   \n",
       "4  Rất khuyên bạn nên ghé thăm quán bar thể thao này     0     0     0     1   \n",
       "\n",
       "   a0_4  a0_5  a1_0  a1_1  a1_2  ...  a4_2  a4_3  a4_4  a4_5  a5_0  a5_1  \\\n",
       "0     0     0     1     0     0  ...     0     0     0     0     1     0   \n",
       "1     0     0     1     0     0  ...     0     0     0     0     1     0   \n",
       "2     0     0     1     0     0  ...     0     0     0     0     1     0   \n",
       "3     0     0     1     0     0  ...     0     0     0     0     1     0   \n",
       "4     0     0     1     0     0  ...     0     0     0     0     1     0   \n",
       "\n",
       "   a5_2  a5_3  a5_4  a5_5  \n",
       "0     0     0     0     0  \n",
       "1     0     0     0     0  \n",
       "2     0     0     0     0  \n",
       "3     0     0     0     0  \n",
       "4     0     0     0     0  \n",
       "\n",
       "[5 rows x 37 columns]"
      ]
     },
     "execution_count": 7,
     "metadata": {},
     "output_type": "execute_result"
    }
   ],
   "source": [
    "df_clean.head()"
   ]
  },
  {
   "cell_type": "code",
   "execution_count": 8,
   "metadata": {},
   "outputs": [
    {
     "data": {
      "text/plain": [
       "2965"
      ]
     },
     "execution_count": 8,
     "metadata": {},
     "output_type": "execute_result"
    }
   ],
   "source": [
    "len(df_clean)"
   ]
  },
  {
   "cell_type": "code",
   "execution_count": 9,
   "metadata": {},
   "outputs": [],
   "source": [
    "df_clean.to_csv('Data/process-train.csv', index=False)"
   ]
  },
  {
   "cell_type": "code",
   "execution_count": 10,
   "metadata": {},
   "outputs": [],
   "source": [
    "# import pandas\n",
    "# df_clean.to_csv('Data/process-train.csv', index=False)\n",
    "# full_data = df_clean.values.tolist()"
   ]
  },
  {
   "cell_type": "code",
   "execution_count": null,
   "metadata": {},
   "outputs": [],
   "source": [
    "full_data[0]"
   ]
  },
  {
   "cell_type": "code",
   "execution_count": null,
   "metadata": {},
   "outputs": [],
   "source": [
    "data.head()"
   ]
  },
  {
   "cell_type": "code",
   "execution_count": null,
   "metadata": {},
   "outputs": [],
   "source": []
  },
  {
   "cell_type": "code",
   "execution_count": null,
   "metadata": {},
   "outputs": [],
   "source": []
  },
  {
   "cell_type": "code",
   "execution_count": null,
   "metadata": {},
   "outputs": [],
   "source": []
  },
  {
   "cell_type": "code",
   "execution_count": 43,
   "metadata": {},
   "outputs": [],
   "source": [
    "train_df = pd.read_csv('Data/process-train.csv', delimiter=',', header=0, encoding=\"utf8\")"
   ]
  },
  {
   "cell_type": "code",
   "execution_count": null,
   "metadata": {},
   "outputs": [],
   "source": [
    "train_df"
   ]
  },
  {
   "cell_type": "code",
   "execution_count": 45,
   "metadata": {},
   "outputs": [],
   "source": [
    "traindata = train_df.values.tolist()"
   ]
  },
  {
   "cell_type": "code",
   "execution_count": 46,
   "metadata": {},
   "outputs": [],
   "source": [
    "traindata = []\n",
    "for sample in train_df.values.tolist()[:5]:\n",
    "    traindata.append([sample[0], sample[1:]])\n",
    "    # break"
   ]
  },
  {
   "cell_type": "code",
   "execution_count": null,
   "metadata": {},
   "outputs": [],
   "source": [
    "traindata"
   ]
  },
  {
   "cell_type": "code",
   "execution_count": null,
   "metadata": {},
   "outputs": [],
   "source": [
    "traindata[0][1]"
   ]
  },
  {
   "cell_type": "code",
   "execution_count": 49,
   "metadata": {},
   "outputs": [],
   "source": [
    "logits = [traindata[i][1] for i in range(5)]"
   ]
  },
  {
   "cell_type": "code",
   "execution_count": 50,
   "metadata": {},
   "outputs": [],
   "source": [
    "import torch \n",
    "logits = torch.tensor(logits) "
   ]
  },
  {
   "cell_type": "code",
   "execution_count": 51,
   "metadata": {},
   "outputs": [
    {
     "name": "stdout",
     "output_type": "stream",
     "text": [
      "tensor([[0, 0, 0, 5, 0, 0],\n",
      "        [0, 0, 0, 5, 0, 0],\n",
      "        [0, 0, 1, 1, 0, 0],\n",
      "        [0, 0, 0, 2, 0, 0],\n",
      "        [3, 0, 0, 0, 0, 0]])\n"
     ]
    }
   ],
   "source": [
    "zzz = []\n",
    "for logit in logits:\n",
    "    res = []\n",
    "    for i in range(0, 36, 6):\n",
    "        x = logit[i:i+6]\n",
    "        # print(x)\n",
    "        # continue\n",
    "        # res.append(x.index(max(x)))\n",
    "        res.append(torch.argmax(x))\n",
    "    res = torch.stack(res)\n",
    "    zzz.append(res)\n",
    "zzz = torch.stack(zzz)\n",
    "print(zzz)"
   ]
  },
  {
   "cell_type": "markdown",
   "metadata": {},
   "source": [
    "## Clean text data"
   ]
  },
  {
   "cell_type": "code",
   "execution_count": null,
   "metadata": {},
   "outputs": [],
   "source": []
  },
  {
   "cell_type": "code",
   "execution_count": 5,
   "metadata": {},
   "outputs": [
    {
     "name": "stdout",
     "output_type": "stream",
     "text": [
      "2965\n"
     ]
    }
   ],
   "source": [
    "import pandas as pd\n",
    "data_file = 'Data/process-train.csv'\n",
    "# store_file = 'Data/clean-train.z'\n",
    "df = pd.read_csv(data_file, delimiter=',', header=0, encoding=\"utf8\")\n",
    "data = df.values.tolist()\n",
    "print(len(data))\n",
    "feature = [x[0] for x in data]\n",
    "label = [x[1:] for x in data]"
   ]
  },
  {
   "cell_type": "code",
   "execution_count": 15,
   "metadata": {},
   "outputs": [],
   "source": [
    "# full_data[:10]"
   ]
  },
  {
   "cell_type": "code",
   "execution_count": 6,
   "metadata": {},
   "outputs": [],
   "source": [
    "feature = preprocessing(feature)"
   ]
  },
  {
   "cell_type": "code",
   "execution_count": 7,
   "metadata": {},
   "outputs": [],
   "source": [
    "clean_data = [[fe,lb] for fe,lb in zip(feature,label)]"
   ]
  },
  {
   "cell_type": "code",
   "execution_count": 8,
   "metadata": {},
   "outputs": [
    {
     "data": {
      "text/plain": [
       "2965"
      ]
     },
     "execution_count": 8,
     "metadata": {},
     "output_type": "execute_result"
    }
   ],
   "source": [
    "len(clean_data)"
   ]
  },
  {
   "cell_type": "code",
   "execution_count": 9,
   "metadata": {},
   "outputs": [
    {
     "name": "stdout",
     "output_type": "stream",
     "text": [
      "Bánh rất nhiều tôm to, tôm giòn nằm chễm chệ trên vỏ bánh mềm thơm ngon. Món ăn thuộc loại rolling in the deep, nghĩa là cuốn với rau, dưa chuột, giá, vỏ bánh mềm. Ngoài ra, đặc biệt không thể thiếu của món ăn là nước chấm chua cay rất Bình Định, vừa miệng đến khó tả. Đặc biệt, quán có sữa ngô tuyệt đỉnh, kết hợp Combo với bánh xèo cuốn này tạo thành một cặp trời sinh. Ai không thích tôm nhảy, có thể đổi sang bò hoặc mực cũng ngon không kém.\n",
      "[1, 0, 0, 0, 0, 0, 1, 0, 0, 0, 0, 0, 1, 0, 0, 0, 0, 0, 0, 0, 0, 0, 0, 1, 1, 0, 0, 0, 0, 0, 1, 0, 0, 0, 0, 0]\n",
      "Đi Quy Nhơn cứ lo không có pizza ăn nhưng nhờ có foody nên đã tìm ra quán này nèeee  Review tốt nên mình cũng rất háo hức và wow đúng là tốt thật á mọi người! 1st impression là quán cách ksan mình 200m , gần biển nữa. Đồ ăn ngon, hợp khẩu vị. Gnocchi sốt ngon, pizza thơm, phô mai ngậy, size 25cm mà chưa đến 150k  xỉu vì rẻ là có thiệt và sườn ăn vừa miệng. Cheesecake ăn chua chua còn brownie thì hơi cứng xíu, ncl ngon. Staff nice cực kì xong còn giới thiệu con chó giống gì này nọ cho mình nữa  Con bulldog tên Jimmy gì ó thì cute thực sự cứ ngồi chực ăn hôi buồn cười lắm  Ăn 5 người thiệt hại 698k thôi (gồm cả nước. Chốt lại là kết quán này luôn sau này đến QN phải kéo thêm người đến mới được keke\n",
      "[1, 0, 0, 0, 0, 0, 1, 0, 0, 0, 0, 0, 1, 0, 0, 0, 0, 0, 0, 0, 0, 0, 0, 1, 1, 0, 0, 0, 0, 0, 1, 0, 0, 0, 0, 0]\n",
      "các món ăn ở đây không có gì đặc sắc, có lẽ nấu theo kiểu nhà hàng cho khách tây, nên các món không có j đặc trưng, nhiều món nhưng tầm thường, nêm nếm rất lạt lẽo, không đúng khẩu vị Việt\n",
      "[1, 0, 0, 0, 0, 0, 1, 0, 0, 0, 0, 0, 0, 1, 0, 0, 0, 0, 0, 1, 0, 0, 0, 0, 1, 0, 0, 0, 0, 0, 1, 0, 0, 0, 0, 0]\n",
      "Lần thứ 2 quay lại đây, vì giới thiệu quán cà phê rộng nhất quy nhơn nên mình mới đưa bạn tới đây chứ thật sự thì có rất nhiều lựa chọn khác tốt hơn, thật sự thì green chỉ được cái không gian rộng , đẹp chứ đồ uống thì fail hoàn toàn, sinh tố cam thì chua lè kiểu như pha nước chứ chắc chắn không phải nguyên chất cam, sinh tố cà chua và dứa cũng tương tự, lần trước uống capuchino dở rồi nên rút kinh nghiệm không kêu mấy món đó nữa  . Thái độ nhân viên không thân thiện, gặp khách không cười . Khách đang uống thì đem chổi ra lau rất mất thiện cảm.\n",
      "[1, 0, 0, 0, 0, 0, 1, 0, 0, 0, 0, 0, 1, 0, 0, 0, 0, 0, 0, 0, 1, 0, 0, 0, 1, 0, 0, 0, 0, 0, 1, 0, 0, 0, 0, 0]\n",
      "Rất khuyên bạn nên ghé thăm quán bar thể thao này\n",
      "[0, 0, 0, 1, 0, 0, 1, 0, 0, 0, 0, 0, 1, 0, 0, 0, 0, 0, 1, 0, 0, 0, 0, 0, 1, 0, 0, 0, 0, 0, 1, 0, 0, 0, 0, 0]\n"
     ]
    }
   ],
   "source": [
    "import joblib\n",
    "for i in clean_data[:5]:\n",
    "    print(i[0])\n",
    "    print(i[1])"
   ]
  },
  {
   "cell_type": "code",
   "execution_count": 34,
   "metadata": {},
   "outputs": [
    {
     "data": {
      "text/plain": [
       "['Data/clean-train.z']"
      ]
     },
     "execution_count": 34,
     "metadata": {},
     "output_type": "execute_result"
    }
   ],
   "source": [
    "joblib.dump(clean_data, store_file)"
   ]
  },
  {
   "cell_type": "markdown",
   "metadata": {},
   "source": [
    "# Load Data "
   ]
  },
  {
   "cell_type": "code",
   "execution_count": 57,
   "metadata": {},
   "outputs": [],
   "source": [
    "import joblib\n",
    "def read_data(data_file):\n",
    "    return joblib.load(data_file)"
   ]
  },
  {
   "cell_type": "code",
   "execution_count": 58,
   "metadata": {},
   "outputs": [],
   "source": [
    "train = read_data('./Data/clean-train.z')"
   ]
  },
  {
   "cell_type": "code",
   "execution_count": 59,
   "metadata": {},
   "outputs": [
    {
     "data": {
      "text/plain": [
       "36"
      ]
     },
     "execution_count": 59,
     "metadata": {},
     "output_type": "execute_result"
    }
   ],
   "source": [
    "len(train[0][1])"
   ]
  },
  {
   "cell_type": "code",
   "execution_count": 61,
   "metadata": {},
   "outputs": [
    {
     "data": {
      "text/plain": [
       "'Tôi đã được đón bởi corp này và tài xế khăng khăng tôi đặt chiếc túi nhỏ của tôi trong cốp xe cùng với chiếc vali. Tôi đến khách sạn của mình và anh ấy đã thay đổi từ chối đưa cho tôi chiếc túi nhỏ của tôi và khẳng định tôi đã không đưa nó cho anh ấy. Anh ta từ chối mở cốp xe và để tôi nhìn, trở nên hiếu chiến, hung bạo và đe dọa tôi trước khi cướp tiền của tôi và lái xe đi.'"
      ]
     },
     "execution_count": 61,
     "metadata": {},
     "output_type": "execute_result"
    }
   ],
   "source": [
    "train[100][0]"
   ]
  },
  {
   "cell_type": "markdown",
   "metadata": {},
   "source": [
    "# Data balance?"
   ]
  },
  {
   "cell_type": "code",
   "execution_count": 2,
   "metadata": {},
   "outputs": [
    {
     "name": "stderr",
     "output_type": "stream",
     "text": [
      "/home/caohainam/anaconda3/envs/Siameser/lib/python3.6/site-packages/tqdm/auto.py:22: TqdmWarning: IProgress not found. Please update jupyter and ipywidgets. See https://ipywidgets.readthedocs.io/en/stable/user_install.html\n",
      "  from .autonotebook import tqdm as notebook_tqdm\n"
     ]
    }
   ],
   "source": [
    "import utils\n",
    "import joblib\n",
    "import operator\n",
    "def read_data(data_file):\n",
    "    return joblib.load(data_file)\n",
    "train = read_data('./data_train/train.z')"
   ]
  },
  {
   "cell_type": "code",
   "execution_count": 3,
   "metadata": {},
   "outputs": [
    {
     "data": {
      "text/plain": [
       "2965"
      ]
     },
     "execution_count": 3,
     "metadata": {},
     "output_type": "execute_result"
    }
   ],
   "source": [
    "len(train)"
   ]
  },
  {
   "cell_type": "code",
   "execution_count": 4,
   "metadata": {},
   "outputs": [],
   "source": [
    "# utils.binary_6_to_score(train[0][1])"
   ]
  },
  {
   "cell_type": "code",
   "execution_count": 5,
   "metadata": {},
   "outputs": [],
   "source": [
    "res = dict()\n",
    "for sample in train:\n",
    "    for idx, value in enumerate(sample[1]):\n",
    "        if value > 0:\n",
    "            if idx in res:\n",
    "                res[idx] += 1\n",
    "            else:\n",
    "                res[idx] = 1\n",
    "sorted_res = sorted(res.items(), key=operator.itemgetter(1), reverse=True)"
   ]
  },
  {
   "cell_type": "code",
   "execution_count": 6,
   "metadata": {},
   "outputs": [
    {
     "data": {
      "text/plain": [
       "36"
      ]
     },
     "execution_count": 6,
     "metadata": {},
     "output_type": "execute_result"
    }
   ],
   "source": [
    "len(sorted_res)"
   ]
  },
  {
   "cell_type": "code",
   "execution_count": 7,
   "metadata": {},
   "outputs": [],
   "source": [
    "import pandas as pd\n",
    "import numpy as np"
   ]
  },
  {
   "cell_type": "code",
   "execution_count": 8,
   "metadata": {},
   "outputs": [],
   "source": [
    "full_counts = {}\n",
    "for sample in train:\n",
    "    count = 0\n",
    "    for idx, value in enumerate(sample[1]):\n",
    "        if value > 0:\n",
    "            if idx in full_counts:\n",
    "                full_counts[idx] += 1\n",
    "            else:\n",
    "                full_counts[idx] = 1\n",
    "fsum = sum(full_counts[i] for i in full_counts)\n",
    "full_counts['avg'] = int(fsum/(len(full_counts)))\n",
    "\n",
    "counts = list(zip(full_counts.keys(), full_counts.values()))\n",
    "counts = np.array(sorted(counts, key=lambda x:-x[1]))\n",
    "counts = pd.DataFrame(counts, columns=['label', 'full_count'])\n",
    "counts.set_index('label', inplace=True)"
   ]
  },
  {
   "cell_type": "code",
   "execution_count": 12,
   "metadata": {},
   "outputs": [
    {
     "data": {
      "text/html": [
       "<div>\n",
       "<style scoped>\n",
       "    .dataframe tbody tr th:only-of-type {\n",
       "        vertical-align: middle;\n",
       "    }\n",
       "\n",
       "    .dataframe tbody tr th {\n",
       "        vertical-align: top;\n",
       "    }\n",
       "\n",
       "    .dataframe thead th {\n",
       "        text-align: right;\n",
       "    }\n",
       "</style>\n",
       "<table border=\"1\" class=\"dataframe\">\n",
       "  <thead>\n",
       "    <tr style=\"text-align: right;\">\n",
       "      <th>label</th>\n",
       "      <th>12</th>\n",
       "      <th>30</th>\n",
       "      <th>0</th>\n",
       "      <th>24</th>\n",
       "      <th>6</th>\n",
       "      <th>18</th>\n",
       "      <th>23</th>\n",
       "      <th>avg</th>\n",
       "      <th>11</th>\n",
       "      <th>22</th>\n",
       "      <th>...</th>\n",
       "      <th>7</th>\n",
       "      <th>3</th>\n",
       "      <th>33</th>\n",
       "      <th>16</th>\n",
       "      <th>32</th>\n",
       "      <th>2</th>\n",
       "      <th>31</th>\n",
       "      <th>13</th>\n",
       "      <th>15</th>\n",
       "      <th>14</th>\n",
       "    </tr>\n",
       "  </thead>\n",
       "  <tbody>\n",
       "    <tr>\n",
       "      <th>full_count</th>\n",
       "      <td>2741</td>\n",
       "      <td>2687</td>\n",
       "      <td>2481</td>\n",
       "      <td>2374</td>\n",
       "      <td>2320</td>\n",
       "      <td>1788</td>\n",
       "      <td>620</td>\n",
       "      <td>494</td>\n",
       "      <td>282</td>\n",
       "      <td>248</td>\n",
       "      <td>...</td>\n",
       "      <td>54</td>\n",
       "      <td>41</td>\n",
       "      <td>40</td>\n",
       "      <td>34</td>\n",
       "      <td>31</td>\n",
       "      <td>30</td>\n",
       "      <td>28</td>\n",
       "      <td>27</td>\n",
       "      <td>22</td>\n",
       "      <td>18</td>\n",
       "    </tr>\n",
       "    <tr>\n",
       "      <th>calculated_oversampling_ratio</th>\n",
       "      <td>1</td>\n",
       "      <td>1</td>\n",
       "      <td>1</td>\n",
       "      <td>1</td>\n",
       "      <td>1</td>\n",
       "      <td>1</td>\n",
       "      <td>1</td>\n",
       "      <td>1</td>\n",
       "      <td>2</td>\n",
       "      <td>2</td>\n",
       "      <td>...</td>\n",
       "      <td>9</td>\n",
       "      <td>12</td>\n",
       "      <td>12</td>\n",
       "      <td>15</td>\n",
       "      <td>16</td>\n",
       "      <td>16</td>\n",
       "      <td>18</td>\n",
       "      <td>18</td>\n",
       "      <td>22</td>\n",
       "      <td>27</td>\n",
       "    </tr>\n",
       "    <tr>\n",
       "      <th>manual_oversapling_ratio</th>\n",
       "      <td>1</td>\n",
       "      <td>1</td>\n",
       "      <td>1</td>\n",
       "      <td>1</td>\n",
       "      <td>1</td>\n",
       "      <td>1</td>\n",
       "      <td>1</td>\n",
       "      <td>1</td>\n",
       "      <td>2</td>\n",
       "      <td>2</td>\n",
       "      <td>...</td>\n",
       "      <td>8</td>\n",
       "      <td>8</td>\n",
       "      <td>8</td>\n",
       "      <td>8</td>\n",
       "      <td>16</td>\n",
       "      <td>16</td>\n",
       "      <td>16</td>\n",
       "      <td>16</td>\n",
       "      <td>16</td>\n",
       "      <td>16</td>\n",
       "    </tr>\n",
       "  </tbody>\n",
       "</table>\n",
       "<p>3 rows × 37 columns</p>\n",
       "</div>"
      ],
      "text/plain": [
       "label                            12    30     0    24     6    18   23  avg  \\\n",
       "full_count                     2741  2687  2481  2374  2320  1788  620  494   \n",
       "calculated_oversampling_ratio     1     1     1     1     1     1    1    1   \n",
       "manual_oversapling_ratio          1     1     1     1     1     1    1    1   \n",
       "\n",
       "label                           11   22  ...   7   3  33  16  32   2  31  13  \\\n",
       "full_count                     282  248  ...  54  41  40  34  31  30  28  27   \n",
       "calculated_oversampling_ratio    2    2  ...   9  12  12  15  16  16  18  18   \n",
       "manual_oversapling_ratio         2    2  ...   8   8   8   8  16  16  16  16   \n",
       "\n",
       "label                          15  14  \n",
       "full_count                     22  18  \n",
       "calculated_oversampling_ratio  22  27  \n",
       "manual_oversapling_ratio       16  16  \n",
       "\n",
       "[3 rows x 37 columns]"
      ]
     },
     "execution_count": 12,
     "metadata": {},
     "output_type": "execute_result"
    }
   ],
   "source": [
    "def set_sample_ratio(x):\n",
    "    avg = int(counts['full_count'].loc['avg'])\n",
    "    x = int(x)\n",
    "    if x >= avg: return 1\n",
    "    else: return int(np.round(avg / x))\n",
    "\n",
    "counts['calculated_oversampling_ratio'] = counts['full_count'].apply(set_sample_ratio)\n",
    "counts['manual_oversapling_ratio'] = [1, 1, 1, 1, 1, 1, 1, 1, 2, 2, 2, 2, 2, 2, 4, 4, 4, 4, 4, 4, 4, 4, 8, 8, 8, 8, 8, 8, 8, 8, 8, 16, 16, 16, 16, 16, 16]\n",
    "counts.T"
   ]
  },
  {
   "cell_type": "code",
   "execution_count": 13,
   "metadata": {},
   "outputs": [],
   "source": [
    "# print(counts['calculated_oversampling_ratio'].tolist())"
   ]
  },
  {
   "cell_type": "code",
   "execution_count": 14,
   "metadata": {},
   "outputs": [],
   "source": [
    "# manual_ratio = [2, 4, 8, 16, 32]\n",
    "# manual_oversapling_ratio = []\n",
    "# for i in counts['calculated_oversampling_ratio']:\n",
    "#     if i == 1:\n",
    "#         manual_oversapling_ratio.append(i)\n"
   ]
  },
  {
   "cell_type": "code",
   "execution_count": 15,
   "metadata": {},
   "outputs": [],
   "source": [
    "def get_sample_ratio(sample):\n",
    "    ratio = 1\n",
    "    labels = sample[1]\n",
    "    for l in labels:\n",
    "        r = counts.calculated_oversampling_ratio.loc[str(l)]\n",
    "        if r > ratio:\n",
    "            ratio = r \n",
    "    return ratio "
   ]
  },
  {
   "cell_type": "code",
   "execution_count": 16,
   "metadata": {},
   "outputs": [
    {
     "data": {
      "text/plain": [
       "8"
      ]
     },
     "execution_count": 16,
     "metadata": {},
     "output_type": "execute_result"
    }
   ],
   "source": [
    "get_sample_ratio(train[0])"
   ]
  },
  {
   "cell_type": "code",
   "execution_count": 18,
   "metadata": {},
   "outputs": [],
   "source": [
    "oversampled = [sample for sample in train for _ in range(get_sample_ratio(sample))]"
   ]
  },
  {
   "cell_type": "code",
   "execution_count": 19,
   "metadata": {},
   "outputs": [
    {
     "data": {
      "text/plain": [
       "23720"
      ]
     },
     "execution_count": 19,
     "metadata": {},
     "output_type": "execute_result"
    }
   ],
   "source": [
    "len(oversampled)"
   ]
  },
  {
   "cell_type": "code",
   "execution_count": 21,
   "metadata": {},
   "outputs": [],
   "source": [
    "# oversampled[:10]"
   ]
  },
  {
   "cell_type": "code",
   "execution_count": 22,
   "metadata": {},
   "outputs": [
    {
     "name": "stdout",
     "output_type": "stream",
     "text": [
      "{0: 19848, 6: 18560, 12: 21928, 23: 4960, 24: 18992, 30: 21496, 13: 216, 19: 600, 20: 816, 3: 328, 18: 14304, 35: 920, 1: 520, 25: 464, 5: 1824, 27: 488, 29: 1824, 22: 1984, 11: 2256, 4: 960, 31: 224, 10: 1312, 28: 1488, 33: 320, 34: 512, 32: 248, 17: 984, 21: 1056, 16: 272, 9: 584, 8: 576, 26: 464, 2: 240, 7: 432, 14: 144, 15: 176}\n"
     ]
    }
   ],
   "source": [
    "full_counts = {}\n",
    "for sample in oversampled:\n",
    "    count = 0\n",
    "    for idx, value in enumerate(sample[1]):\n",
    "        if value > 0:\n",
    "            if idx in full_counts:\n",
    "                full_counts[idx] += 1\n",
    "            else:\n",
    "                full_counts[idx] = 1\n",
    "print(full_counts)"
   ]
  },
  {
   "cell_type": "code",
   "execution_count": null,
   "metadata": {},
   "outputs": [],
   "source": []
  },
  {
   "cell_type": "code",
   "execution_count": null,
   "metadata": {},
   "outputs": [],
   "source": []
  },
  {
   "cell_type": "code",
   "execution_count": null,
   "metadata": {},
   "outputs": [],
   "source": []
  },
  {
   "cell_type": "code",
   "execution_count": null,
   "metadata": {},
   "outputs": [],
   "source": [
    "import numpy as np\n",
    "len_data = []\n",
    "for i in range(6):\n",
    "    len_data.append(len(train_df[train_df[f\"a{i}\"] >0]))\n",
    "\n",
    "max_field = np.argmax(len_data)\n",
    "max_count = max(len_data)"
   ]
  },
  {
   "cell_type": "code",
   "execution_count": null,
   "metadata": {},
   "outputs": [],
   "source": [
    "train_df[(train_df[f\"a{max_field}\"] ==0) & (train_df[f'a{0}'] >0)]"
   ]
  },
  {
   "cell_type": "code",
   "execution_count": null,
   "metadata": {},
   "outputs": [],
   "source": [
    "unique_field = []\n",
    "for i in range(6):\n",
    "    if i != max_field:\n",
    "        unique_field.append(train_df[(train_df[f\"a{max_field}\"] ==0) & (train_df[f'a{i}'] >0)])\n",
    "    if i == max_field:\n",
    "        unique_field.append(train_df[train_df[f'a{i}']> 0] )"
   ]
  },
  {
   "cell_type": "code",
   "execution_count": null,
   "metadata": {},
   "outputs": [],
   "source": [
    "for i in range(len(unique_field)):\n",
    "    unique_field[i] = unique_field[i].reset_index(drop= True)\n",
    "unique_field[0]"
   ]
  },
  {
   "cell_type": "code",
   "execution_count": null,
   "metadata": {},
   "outputs": [],
   "source": [
    "added = []\n",
    "added.append(max_field)\n",
    "len_data[max_field] = 0\n",
    "while(sum(len_data) != 0):\n",
    "\n",
    "    max_field_i = np.argmax(len_data)\n",
    "    added.append(max_field_i)\n",
    "    required_sample = max_count - np.max(len_data)\n",
    "    chosen_idx = np.random.choice(len(unique_field[max_field_i]), replace = True, size =required_sample )\n",
    "    add_df = unique_field[max_field_i].iloc[chosen_idx]\n",
    "    train_df = train_df.append(add_df,ignore_index=True)\n",
    "    \n",
    "    #### update param\n",
    "    len_data[max_field_i] = 0\n",
    "    for i in range(len(len_data)):\n",
    "        if len_data[i] !=0:\n",
    "            len_data[i] = len_data[i] + len(add_df[add_df[f'a{i}'] > 0])\n",
    "            unique_field[i] = unique_field[i][unique_field[i][f'a{max_field_i}'] == 0]"
   ]
  },
  {
   "cell_type": "code",
   "execution_count": null,
   "metadata": {},
   "outputs": [],
   "source": [
    "len_data = []\n",
    "for i in range(6):\n",
    "    len_data.append(len(train_df[train_df[f'a{i}']>0]))"
   ]
  },
  {
   "cell_type": "code",
   "execution_count": null,
   "metadata": {},
   "outputs": [],
   "source": []
  },
  {
   "cell_type": "code",
   "execution_count": null,
   "metadata": {},
   "outputs": [],
   "source": []
  },
  {
   "cell_type": "code",
   "execution_count": null,
   "metadata": {},
   "outputs": [],
   "source": []
  },
  {
   "cell_type": "markdown",
   "metadata": {},
   "source": [
    "# Data thêm"
   ]
  },
  {
   "cell_type": "code",
   "execution_count": 4,
   "metadata": {},
   "outputs": [],
   "source": [
    "import json \n",
    "import os \n",
    "import pandas as pd\n",
    "from preprocess_text import preprocessing_sample"
   ]
  },
  {
   "cell_type": "code",
   "execution_count": 5,
   "metadata": {},
   "outputs": [],
   "source": [
    "data = dict()\n",
    "data['review'], data['category'] , data['score'] = [], [], []"
   ]
  },
  {
   "cell_type": "code",
   "execution_count": 3,
   "metadata": {},
   "outputs": [],
   "source": [
    "# directory = 'comments_detail'\n",
    "# addresses = []\n",
    "# for filename in os.listdir(directory):\n",
    "#     f = os.path.join(directory, filename)\n",
    "#     if os.path.isfile(f):\n",
    "#         with open(f, 'r', encoding='utf-8') as f:\n",
    "#             x = json.load(f)\n",
    "#         # print(x)\n",
    "#         for i in x:\n",
    "#             cate = i['category']\n",
    "#             addresses.append(i['address'])\n",
    "#             # print(i.keys())\n",
    "#             # print(i['comments'])\n",
    "#             for sample in i['comments']:\n",
    "#                 if preprocessing_sample(sample['text']) not in data['review']:\n",
    "#                     data['category'].append(cate)\n",
    "#                     data['review'].append(preprocessing_sample(sample['text']))\n",
    "#                     data['score'].append(sample['score'])\n",
    "#     # break"
   ]
  },
  {
   "cell_type": "code",
   "execution_count": 40,
   "metadata": {},
   "outputs": [
    {
     "name": "stdout",
     "output_type": "stream",
     "text": [
      "13186\n"
     ]
    }
   ],
   "source": [
    "directory = 'comments_detail'\n",
    "addresses = []\n",
    "reviews = set()\n",
    "for filename in os.listdir(directory):\n",
    "    f = os.path.join(directory, filename)\n",
    "    if os.path.isfile(f):\n",
    "        with open(f, 'r', encoding='utf-8') as f:\n",
    "            x = json.load(f)\n",
    "        # print(x)\n",
    "        for i in x:\n",
    "            cate = i['category']\n",
    "            addresses.append(i['address'])\n",
    "            # print(i.keys())\n",
    "            # print(i['comments'])\n",
    "            for sample in i['comments']:\n",
    "                reviews.add(preprocessing_sample(sample['text']))\n",
    "reviews = list(reviews)\n",
    "print(len(reviews))"
   ]
  },
  {
   "cell_type": "code",
   "execution_count": 4,
   "metadata": {},
   "outputs": [],
   "source": [
    "# print(len(data))"
   ]
  },
  {
   "cell_type": "code",
   "execution_count": 5,
   "metadata": {},
   "outputs": [],
   "source": [
    "# for i in data:\n",
    "#     print(i)"
   ]
  },
  {
   "cell_type": "code",
   "execution_count": 6,
   "metadata": {},
   "outputs": [],
   "source": [
    "# set(data['category'])"
   ]
  },
  {
   "cell_type": "code",
   "execution_count": 41,
   "metadata": {},
   "outputs": [
    {
     "name": "stdout",
     "output_type": "stream",
     "text": [
      "13186\n"
     ]
    }
   ],
   "source": [
    "df=pd.DataFrame(reviews, columns=['review'])\n",
    "print(len(df))"
   ]
  },
  {
   "cell_type": "code",
   "execution_count": 42,
   "metadata": {},
   "outputs": [],
   "source": [
    "with open('Data_Add/review_all-topic.txt', 'w') as f:\n",
    "    for r in reviews:\n",
    "        if len(r.split()) > 10 and len(r.split()) < 100:\n",
    "            f.write(r)\n",
    "            f.write('\\n')\n",
    "f.close()"
   ]
  },
  {
   "cell_type": "code",
   "execution_count": 43,
   "metadata": {},
   "outputs": [],
   "source": [
    "# df.info()"
   ]
  },
  {
   "cell_type": "code",
   "execution_count": 14,
   "metadata": {},
   "outputs": [],
   "source": [
    "# df.head(10)"
   ]
  },
  {
   "cell_type": "code",
   "execution_count": 44,
   "metadata": {},
   "outputs": [],
   "source": [
    "# df = df[df.review.apply(lambda x: len(str(x).split())) < 100]\n",
    "# df = df[df.review.apply(lambda x: len(str(x).split())) > 10]\n",
    "# print(len(df))"
   ]
  },
  {
   "cell_type": "code",
   "execution_count": 45,
   "metadata": {},
   "outputs": [],
   "source": [
    "# df.to_csv('Data_Add/18-8_all-topic.csv')"
   ]
  },
  {
   "cell_type": "code",
   "execution_count": null,
   "metadata": {},
   "outputs": [],
   "source": []
  },
  {
   "cell_type": "code",
   "execution_count": null,
   "metadata": {},
   "outputs": [],
   "source": []
  },
  {
   "cell_type": "code",
   "execution_count": 99,
   "metadata": {},
   "outputs": [],
   "source": [
    "# df = df.sample(frac=1)"
   ]
  },
  {
   "cell_type": "code",
   "execution_count": 38,
   "metadata": {},
   "outputs": [],
   "source": [
    "# len(df)"
   ]
  },
  {
   "cell_type": "code",
   "execution_count": 101,
   "metadata": {},
   "outputs": [],
   "source": [
    "# new_df = df.iloc[:1000]"
   ]
  },
  {
   "cell_type": "code",
   "execution_count": 36,
   "metadata": {},
   "outputs": [],
   "source": [
    "# new_df.head()"
   ]
  },
  {
   "cell_type": "code",
   "execution_count": 37,
   "metadata": {},
   "outputs": [],
   "source": [
    "# new_df.to_csv('Data_Add/8-5_1000samples.csv', index=False)"
   ]
  },
  {
   "cell_type": "code",
   "execution_count": null,
   "metadata": {},
   "outputs": [],
   "source": []
  },
  {
   "cell_type": "code",
   "execution_count": null,
   "metadata": {},
   "outputs": [],
   "source": []
  },
  {
   "cell_type": "code",
   "execution_count": 17,
   "metadata": {},
   "outputs": [],
   "source": [
    "import joblib\n",
    "data = joblib.load('Data_Add/train_1000_1811_large.z')"
   ]
  },
  {
   "cell_type": "code",
   "execution_count": 18,
   "metadata": {},
   "outputs": [],
   "source": [
    "def convert_to_score(logit):\n",
    "    res = []\n",
    "    for i in range(0, 36, 6):\n",
    "        x = logit[i:i+6].index(max(logit[i:i+6]))\n",
    "        res.append(x)\n",
    "    return res"
   ]
  },
  {
   "cell_type": "code",
   "execution_count": 19,
   "metadata": {},
   "outputs": [],
   "source": [
    "x = []\n",
    "for sample in data:\n",
    "    res = []\n",
    "    if len(sample[0].split()) < 100 and len(sample[0].split()) > 10:\n",
    "        res.append(sample[0])\n",
    "        res.append(convert_to_score(sample[1]))\n",
    "        x.append(res)"
   ]
  },
  {
   "cell_type": "code",
   "execution_count": 20,
   "metadata": {},
   "outputs": [
    {
     "name": "stdout",
     "output_type": "stream",
     "text": [
      "545\n",
      "545\n"
     ]
    }
   ],
   "source": [
    "print(len(x))\n",
    "print(len(set([i[0] for i in x])))"
   ]
  },
  {
   "cell_type": "code",
   "execution_count": 21,
   "metadata": {},
   "outputs": [],
   "source": [
    "reviews = [i[0] for i in x]\n",
    "for r in reviews:\n",
    "    if reviews.count(r) == 2:\n",
    "        print(r)\n",
    "        break"
   ]
  },
  {
   "cell_type": "code",
   "execution_count": 22,
   "metadata": {},
   "outputs": [
    {
     "data": {
      "text/plain": [
       "545"
      ]
     },
     "execution_count": 22,
     "metadata": {},
     "output_type": "execute_result"
    }
   ],
   "source": [
    "len(set([i[0] for i in x]))"
   ]
  },
  {
   "cell_type": "code",
   "execution_count": 23,
   "metadata": {},
   "outputs": [],
   "source": [
    "res = []\n",
    "for i in x:\n",
    "    res.append([i[0]]+i[1])"
   ]
  },
  {
   "cell_type": "code",
   "execution_count": 24,
   "metadata": {},
   "outputs": [],
   "source": [
    "x = pd.DataFrame(res, columns=['review', 'giai_tri', 'luu_tru', 'nha_hang', 'an_uong', 'van_chuyen', 'mua_sam'])"
   ]
  },
  {
   "cell_type": "code",
   "execution_count": 26,
   "metadata": {},
   "outputs": [],
   "source": [
    "x.to_csv('Data_Add/16-8_data.csv')"
   ]
  },
  {
   "cell_type": "markdown",
   "metadata": {},
   "source": [
    "### Khach san\n"
   ]
  },
  {
   "cell_type": "code",
   "execution_count": 46,
   "metadata": {},
   "outputs": [],
   "source": [
    "import pandas as pd\n",
    "import json\n",
    "from langdetect import detect\n",
    "from preprocess_text import preprocessing_sample"
   ]
  },
  {
   "cell_type": "code",
   "execution_count": 47,
   "metadata": {},
   "outputs": [],
   "source": [
    "data = dict()\n",
    "data['review'] = set()\n",
    "directory = 'comments_khachsan'\n",
    "addresses = []\n",
    "for filename in os.listdir(directory):\n",
    "    f = os.path.join(directory, filename)\n",
    "    if os.path.isfile(f):\n",
    "        with open(f, 'r', encoding='utf-8') as f:\n",
    "            x = json.load(f)\n",
    "        # print(x)\n",
    "        for i in x:\n",
    "            clean_review = preprocessing_sample(i['comments'])\n",
    "            try:\n",
    "                if detect(clean_review) == 'vi':\n",
    "                    data['review'].add(clean_review)\n",
    "            except:\n",
    "                continue\n",
    "data['review'] = list(data['review'])"
   ]
  },
  {
   "cell_type": "code",
   "execution_count": 49,
   "metadata": {},
   "outputs": [],
   "source": [
    "with open('Data_Add/review_khachsan.txt', 'w') as f:\n",
    "    for r in data['review']:\n",
    "        if len(r.split()) > 10 and len(r.split()) < 100:\n",
    "            f.write(r)\n",
    "            f.write('\\n')\n",
    "f.close()"
   ]
  },
  {
   "cell_type": "code",
   "execution_count": 48,
   "metadata": {},
   "outputs": [
    {
     "data": {
      "text/plain": [
       "1496"
      ]
     },
     "execution_count": 48,
     "metadata": {},
     "output_type": "execute_result"
    }
   ],
   "source": [
    "len(data['review'])"
   ]
  },
  {
   "cell_type": "code",
   "execution_count": null,
   "metadata": {},
   "outputs": [],
   "source": []
  },
  {
   "cell_type": "code",
   "execution_count": 32,
   "metadata": {},
   "outputs": [],
   "source": [
    "# data['review'][:10]"
   ]
  },
  {
   "cell_type": "code",
   "execution_count": 33,
   "metadata": {},
   "outputs": [],
   "source": [
    "# df=pd.DataFrame(data)\n",
    "# print(len(df))"
   ]
  },
  {
   "cell_type": "code",
   "execution_count": 12,
   "metadata": {},
   "outputs": [
    {
     "name": "stdout",
     "output_type": "stream",
     "text": [
      "395\n"
     ]
    }
   ],
   "source": [
    "# df = df[df.review.apply(lambda x: len(str(x).split())) < 100]\n",
    "# df = df[df.review.apply(lambda x: len(str(x).split())) > 20]\n",
    "# print(len(df))"
   ]
  },
  {
   "cell_type": "code",
   "execution_count": 13,
   "metadata": {},
   "outputs": [],
   "source": [
    "# df['giai_tri'] = [0 for _ in range(len(df))]\n",
    "# df['luu_tru'] = [0 for _ in range(len(df))]\n",
    "# df['nha_hang'] = [0 for _ in range(len(df))]\n",
    "# df['an_uong'] = [0 for _ in range(len(df))]\n",
    "# df['van_chuyen'] = [0 for _ in range(len(df))]\n",
    "# df['mua_sam'] = [0 for _ in range(len(df))]"
   ]
  },
  {
   "cell_type": "code",
   "execution_count": 34,
   "metadata": {},
   "outputs": [],
   "source": [
    "# df.head()"
   ]
  },
  {
   "cell_type": "code",
   "execution_count": 35,
   "metadata": {},
   "outputs": [],
   "source": [
    "# df.to_csv('Data_Add/16_8_khachsan.csv')"
   ]
  },
  {
   "cell_type": "code",
   "execution_count": null,
   "metadata": {},
   "outputs": [],
   "source": []
  },
  {
   "cell_type": "markdown",
   "metadata": {},
   "source": [
    "### van chuyen"
   ]
  },
  {
   "cell_type": "code",
   "execution_count": 50,
   "metadata": {},
   "outputs": [],
   "source": [
    "data = dict()\n",
    "data['review'] = set()\n",
    "directory = 'comments_vanchuyen'\n",
    "addresses = []\n",
    "for filename in os.listdir(directory):\n",
    "    f = os.path.join(directory, filename)\n",
    "    if os.path.isfile(f):\n",
    "        with open(f, 'r', encoding='utf-8') as f:\n",
    "            x = json.load(f)\n",
    "        # print(x)\n",
    "        for i in x:\n",
    "            try:\n",
    "                clean_review = preprocessing_sample(i['comments'])\n",
    "                if detect(clean_review) == 'vi':\n",
    "                    data['review'].add(clean_review)\n",
    "            except:\n",
    "                continue\n",
    "data['review'] = list(data['review'])"
   ]
  },
  {
   "cell_type": "code",
   "execution_count": 51,
   "metadata": {},
   "outputs": [],
   "source": [
    "with open('Data_Add/review_vanchuyen.txt', 'w') as f:\n",
    "    for r in data['review']:\n",
    "        if len(r.split()) > 10 and len(r.split()) < 100:\n",
    "            f.write(r)\n",
    "            f.write('\\n')\n",
    "f.close()"
   ]
  },
  {
   "cell_type": "code",
   "execution_count": 19,
   "metadata": {},
   "outputs": [
    {
     "name": "stdout",
     "output_type": "stream",
     "text": [
      "343\n"
     ]
    }
   ],
   "source": [
    "df=pd.DataFrame(data)\n",
    "print(len(df))\n",
    "\n",
    "# df = df[df.review.apply(lambda x: len(str(x).split())) < 130]\n",
    "# df = df[df.review.apply(lambda x: len(str(x).split())) > 50]\n",
    "# print(len(df))"
   ]
  },
  {
   "cell_type": "code",
   "execution_count": 20,
   "metadata": {},
   "outputs": [],
   "source": [
    "df['giai_tri'] = [0 for _ in range(len(df))]\n",
    "df['luu_tru'] = [0 for _ in range(len(df))]\n",
    "df['nha_hang'] = [0 for _ in range(len(df))]\n",
    "df['an_uong'] = [0 for _ in range(len(df))]\n",
    "df['van_chuyen'] = [0 for _ in range(len(df))]\n",
    "df['mua_sam'] = [0 for _ in range(len(df))]"
   ]
  },
  {
   "cell_type": "code",
   "execution_count": 21,
   "metadata": {},
   "outputs": [
    {
     "data": {
      "text/plain": [
       "343"
      ]
     },
     "execution_count": 21,
     "metadata": {},
     "output_type": "execute_result"
    }
   ],
   "source": [
    "len(df)"
   ]
  },
  {
   "cell_type": "code",
   "execution_count": 22,
   "metadata": {},
   "outputs": [
    {
     "name": "stdout",
     "output_type": "stream",
     "text": [
      "124\n"
     ]
    }
   ],
   "source": [
    "df = df[df.review.apply(lambda x: len(str(x).split())) < 100]\n",
    "df = df[df.review.apply(lambda x: len(str(x).split())) > 20]\n",
    "print(len(df))"
   ]
  },
  {
   "cell_type": "code",
   "execution_count": 120,
   "metadata": {},
   "outputs": [],
   "source": [
    "df.to_csv('Data_Add/16_8_vanchuyen.csv')"
   ]
  },
  {
   "cell_type": "code",
   "execution_count": null,
   "metadata": {},
   "outputs": [],
   "source": []
  },
  {
   "cell_type": "markdown",
   "metadata": {},
   "source": [
    "### Đọc data sau khi lọc trùng"
   ]
  },
  {
   "cell_type": "code",
   "execution_count": 1,
   "metadata": {},
   "outputs": [],
   "source": [
    "import pandas as pd"
   ]
  },
  {
   "cell_type": "code",
   "execution_count": 2,
   "metadata": {},
   "outputs": [
    {
     "data": {
      "text/html": [
       "<div>\n",
       "<style scoped>\n",
       "    .dataframe tbody tr th:only-of-type {\n",
       "        vertical-align: middle;\n",
       "    }\n",
       "\n",
       "    .dataframe tbody tr th {\n",
       "        vertical-align: top;\n",
       "    }\n",
       "\n",
       "    .dataframe thead th {\n",
       "        text-align: right;\n",
       "    }\n",
       "</style>\n",
       "<table border=\"1\" class=\"dataframe\">\n",
       "  <thead>\n",
       "    <tr style=\"text-align: right;\">\n",
       "      <th></th>\n",
       "      <th>text</th>\n",
       "      <th>location</th>\n",
       "      <th>id</th>\n",
       "    </tr>\n",
       "  </thead>\n",
       "  <tbody>\n",
       "    <tr>\n",
       "      <th>0</th>\n",
       "      <td>Nơi đó thật kinh khủng, chúng tôi nhìn thấy nh...</td>\n",
       "      <td>1_btc.txt</td>\n",
       "      <td>0</td>\n",
       "    </tr>\n",
       "    <tr>\n",
       "      <th>1</th>\n",
       "      <td>Quán sạch sẽ, món ăn tươi ngon, giá lại rẻ</td>\n",
       "      <td>1_btc.txt</td>\n",
       "      <td>1</td>\n",
       "    </tr>\n",
       "    <tr>\n",
       "      <th>2</th>\n",
       "      <td>Phục vụ mãi mãi, thức ăn không ngon, và họ thậ...</td>\n",
       "      <td>1_btc.txt</td>\n",
       "      <td>2</td>\n",
       "    </tr>\n",
       "    <tr>\n",
       "      <th>3</th>\n",
       "      <td>Nhiều món đăc trưng Vú nàng nướng mỡ hành, bọ ...</td>\n",
       "      <td>1_btc.txt</td>\n",
       "      <td>3</td>\n",
       "    </tr>\n",
       "    <tr>\n",
       "      <th>4</th>\n",
       "      <td>Không phải là một cách tồi để đi giữa Sài Gòn ...</td>\n",
       "      <td>1_btc.txt</td>\n",
       "      <td>4</td>\n",
       "    </tr>\n",
       "  </tbody>\n",
       "</table>\n",
       "</div>"
      ],
      "text/plain": [
       "                                                text   location  id\n",
       "0  Nơi đó thật kinh khủng, chúng tôi nhìn thấy nh...  1_btc.txt   0\n",
       "1         Quán sạch sẽ, món ăn tươi ngon, giá lại rẻ  1_btc.txt   1\n",
       "2  Phục vụ mãi mãi, thức ăn không ngon, và họ thậ...  1_btc.txt   2\n",
       "3  Nhiều món đăc trưng Vú nàng nướng mỡ hành, bọ ...  1_btc.txt   3\n",
       "4  Không phải là một cách tồi để đi giữa Sài Gòn ...  1_btc.txt   4"
      ]
     },
     "execution_count": 2,
     "metadata": {},
     "output_type": "execute_result"
    }
   ],
   "source": [
    "df = pd.read_csv('Data_Add/data_dedup.csv')\n",
    "df.head()"
   ]
  },
  {
   "cell_type": "code",
   "execution_count": 3,
   "metadata": {},
   "outputs": [
    {
     "data": {
      "text/plain": [
       "array(['1_btc.txt', '2_khachsan.txt', '4_all-topic.txt',\n",
       "       '3_vanchuyen.txt'], dtype=object)"
      ]
     },
     "execution_count": 3,
     "metadata": {},
     "output_type": "execute_result"
    }
   ],
   "source": [
    "df['location'].unique()"
   ]
  },
  {
   "cell_type": "code",
   "execution_count": 12,
   "metadata": {},
   "outputs": [],
   "source": [
    "x = pd.DataFrame(df[df['location']=='4_all-topic.txt'])\n",
    "x['giai_tri'] = [0 for _ in range(len(x))]\n",
    "x['luu_tru'] = [0 for _ in range(len(x))]\n",
    "x['nha_hang'] = [0 for _ in range(len(x))]\n",
    "x['an_uong'] = [0 for _ in range(len(x))]\n",
    "x['van_chuyen'] = [0 for _ in range(len(x))]\n",
    "x['mua_sam'] = [0 for _ in range(len(x))]\n",
    "x.to_csv('19-8_all-topic.csv')"
   ]
  },
  {
   "cell_type": "code",
   "execution_count": 13,
   "metadata": {},
   "outputs": [],
   "source": [
    "x = pd.DataFrame(df[df['location']=='2_khachsan.txt'])\n",
    "x['giai_tri'] = [0 for _ in range(len(x))]\n",
    "x['luu_tru'] = [0 for _ in range(len(x))]\n",
    "x['nha_hang'] = [0 for _ in range(len(x))]\n",
    "x['an_uong'] = [0 for _ in range(len(x))]\n",
    "x['van_chuyen'] = [0 for _ in range(len(x))]\n",
    "x['mua_sam'] = [0 for _ in range(len(x))]\n",
    "x.to_csv('19-8_khachsan.csv')"
   ]
  },
  {
   "cell_type": "code",
   "execution_count": 14,
   "metadata": {},
   "outputs": [],
   "source": [
    "x = pd.DataFrame(df[df['location']=='3_vanchuyen.txt'])\n",
    "x['giai_tri'] = [0 for _ in range(len(x))]\n",
    "x['luu_tru'] = [0 for _ in range(len(x))]\n",
    "x['nha_hang'] = [0 for _ in range(len(x))]\n",
    "x['an_uong'] = [0 for _ in range(len(x))]\n",
    "x['van_chuyen'] = [0 for _ in range(len(x))]\n",
    "x['mua_sam'] = [0 for _ in range(len(x))]\n",
    "x.to_csv('19-8_vanchuyen.csv')"
   ]
  },
  {
   "cell_type": "code",
   "execution_count": 8,
   "metadata": {},
   "outputs": [],
   "source": [
    "# x"
   ]
  },
  {
   "cell_type": "code",
   "execution_count": null,
   "metadata": {},
   "outputs": [],
   "source": []
  }
 ],
 "metadata": {
  "kernelspec": {
   "display_name": "Python 3 (ipykernel)",
   "language": "python",
   "name": "python3"
  },
  "language_info": {
   "codemirror_mode": {
    "name": "ipython",
    "version": 3
   },
   "file_extension": ".py",
   "mimetype": "text/x-python",
   "name": "python",
   "nbconvert_exporter": "python",
   "pygments_lexer": "ipython3",
   "version": "3.6.8"
  },
  "vscode": {
   "interpreter": {
    "hash": "61bdd0b55a49579dae41aeb58461067260e1c949b651649dce2924a71b019886"
   }
  }
 },
 "nbformat": 4,
 "nbformat_minor": 2
}
