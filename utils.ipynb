{
 "cells": [
  {
   "cell_type": "code",
   "execution_count": 1,
   "id": "ceca3546",
   "metadata": {},
   "outputs": [],
   "source": [
    "import pandas as pd\n",
    "import numpy as np\n",
    "import utils\n",
    "import torch\n",
    "import preprocess_text\n",
    "import joblib"
   ]
  },
  {
   "cell_type": "code",
   "execution_count": 3,
   "id": "85e6a0c8",
   "metadata": {},
   "outputs": [],
   "source": [
    "# dir(utils)"
   ]
  },
  {
   "cell_type": "code",
   "execution_count": 4,
   "id": "d0f20495",
   "metadata": {},
   "outputs": [],
   "source": [
    "utils.convert_z_to_csv('Data/test_1.z', 'Data/test_1.csv')\n",
    "utils.convert_z_to_csv('Data/test_2.z', 'Data/test_2.csv')\n",
    "utils.convert_z_to_csv('Data/test_3.z', 'Data/test_3.csv')"
   ]
  },
  {
   "cell_type": "code",
   "execution_count": null,
   "id": "1f4747e8",
   "metadata": {},
   "outputs": [],
   "source": []
  },
  {
   "cell_type": "code",
   "execution_count": null,
   "id": "88005520",
   "metadata": {},
   "outputs": [],
   "source": []
  },
  {
   "cell_type": "markdown",
   "id": "fe055532",
   "metadata": {},
   "source": [
    "## Xử lý data categorical"
   ]
  },
  {
   "cell_type": "code",
   "execution_count": 177,
   "id": "4fa46fad",
   "metadata": {},
   "outputs": [],
   "source": [
    "def dummies(data):\n",
    "    label_each_aspect = list(range(6))\n",
    "#     data = data.rename(columns={\"vui chơi\": \"a0\", \"lưu trú\": \"a1\", \"nhà hàng\": \"a2\", \n",
    "#                                \"ăn uống\": \"a3\", \"vận chuyển\": \"a4\", \"mua sắm\": \"a5\"})\n",
    "    data = data.rename(columns={\"giai_tri\": \"a0\", \"luu_tru\": \"a1\", \"nha_hang\": \"a2\", \n",
    "                               \"an_uong\": \"a3\", \"di_chuyen\": \"a4\", \"mua_sam\": \"a5\"})\n",
    "    columns = data.columns\n",
    "    dummys = []\n",
    "    for cl in columns:\n",
    "        if cl != 'Review':\n",
    "            for label in label_each_aspect:\n",
    "                data[f'{cl}_{label}'] = data.apply(lambda row: 0 if row[cl] != label else 1, axis=1)\n",
    "                \n",
    "    data = data.drop([\"a0\",\"a1\",\"a2\",\"a3\",\"a4\",\"a5\" ], axis =1)\n",
    "    return data"
   ]
  },
  {
   "cell_type": "code",
   "execution_count": 184,
   "id": "2e608a93",
   "metadata": {},
   "outputs": [],
   "source": [
    "datafile = 'Data/processed_data_final.csv'\n",
    "datafile = 'Data/processed_data_final_remake.csv'\n",
    "df = pd.read_csv(datafile)\n",
    "\n",
    "columns = df.columns.tolist()\n",
    "\n",
    "df = df[columns[:7]]"
   ]
  },
  {
   "cell_type": "code",
   "execution_count": 185,
   "id": "444be925",
   "metadata": {},
   "outputs": [
    {
     "data": {
      "text/html": [
       "<div>\n",
       "<style scoped>\n",
       "    .dataframe tbody tr th:only-of-type {\n",
       "        vertical-align: middle;\n",
       "    }\n",
       "\n",
       "    .dataframe tbody tr th {\n",
       "        vertical-align: top;\n",
       "    }\n",
       "\n",
       "    .dataframe thead th {\n",
       "        text-align: right;\n",
       "    }\n",
       "</style>\n",
       "<table border=\"1\" class=\"dataframe\">\n",
       "  <thead>\n",
       "    <tr style=\"text-align: right;\">\n",
       "      <th></th>\n",
       "      <th>Review</th>\n",
       "      <th>giai_tri</th>\n",
       "      <th>luu_tru</th>\n",
       "      <th>nha_hang</th>\n",
       "      <th>an_uong</th>\n",
       "      <th>di_chuyen</th>\n",
       "      <th>mua_sam</th>\n",
       "    </tr>\n",
       "  </thead>\n",
       "  <tbody>\n",
       "    <tr>\n",
       "      <th>0</th>\n",
       "      <td>Bánh rất nhiều tôm to, tôm giòn nằm chễm chệ t...</td>\n",
       "      <td>0</td>\n",
       "      <td>0</td>\n",
       "      <td>0</td>\n",
       "      <td>5</td>\n",
       "      <td>0</td>\n",
       "      <td>0</td>\n",
       "    </tr>\n",
       "    <tr>\n",
       "      <th>1</th>\n",
       "      <td>Đi Quy Nhơn cứ lo không có pizza ăn nhưng nhờ ...</td>\n",
       "      <td>0</td>\n",
       "      <td>0</td>\n",
       "      <td>0</td>\n",
       "      <td>5</td>\n",
       "      <td>0</td>\n",
       "      <td>0</td>\n",
       "    </tr>\n",
       "    <tr>\n",
       "      <th>2</th>\n",
       "      <td>các món ăn ở đây không có gì đặc sắc, có lẽ nấ...</td>\n",
       "      <td>0</td>\n",
       "      <td>0</td>\n",
       "      <td>1</td>\n",
       "      <td>1</td>\n",
       "      <td>0</td>\n",
       "      <td>0</td>\n",
       "    </tr>\n",
       "    <tr>\n",
       "      <th>3</th>\n",
       "      <td>Lần thứ 2 quay lại đây, vì giới thiệu quán cà ...</td>\n",
       "      <td>0</td>\n",
       "      <td>0</td>\n",
       "      <td>0</td>\n",
       "      <td>2</td>\n",
       "      <td>0</td>\n",
       "      <td>0</td>\n",
       "    </tr>\n",
       "    <tr>\n",
       "      <th>4</th>\n",
       "      <td>Rất khuyên bạn nên ghé thăm quán bar thể thao này</td>\n",
       "      <td>3</td>\n",
       "      <td>0</td>\n",
       "      <td>0</td>\n",
       "      <td>0</td>\n",
       "      <td>0</td>\n",
       "      <td>0</td>\n",
       "    </tr>\n",
       "  </tbody>\n",
       "</table>\n",
       "</div>"
      ],
      "text/plain": [
       "                                              Review  giai_tri  luu_tru  \\\n",
       "0  Bánh rất nhiều tôm to, tôm giòn nằm chễm chệ t...         0        0   \n",
       "1  Đi Quy Nhơn cứ lo không có pizza ăn nhưng nhờ ...         0        0   \n",
       "2  các món ăn ở đây không có gì đặc sắc, có lẽ nấ...         0        0   \n",
       "3  Lần thứ 2 quay lại đây, vì giới thiệu quán cà ...         0        0   \n",
       "4  Rất khuyên bạn nên ghé thăm quán bar thể thao này         3        0   \n",
       "\n",
       "   nha_hang  an_uong  di_chuyen  mua_sam  \n",
       "0         0        5          0        0  \n",
       "1         0        5          0        0  \n",
       "2         1        1          0        0  \n",
       "3         0        2          0        0  \n",
       "4         0        0          0        0  "
      ]
     },
     "execution_count": 185,
     "metadata": {},
     "output_type": "execute_result"
    }
   ],
   "source": [
    "df.head(5)"
   ]
  },
  {
   "cell_type": "code",
   "execution_count": 186,
   "id": "88888be7",
   "metadata": {},
   "outputs": [
    {
     "name": "stdout",
     "output_type": "stream",
     "text": [
      "<class 'pandas.core.frame.DataFrame'>\n",
      "RangeIndex: 3658 entries, 0 to 3657\n",
      "Data columns (total 7 columns):\n",
      " #   Column     Non-Null Count  Dtype \n",
      "---  ------     --------------  ----- \n",
      " 0   Review     3658 non-null   object\n",
      " 1   giai_tri   3658 non-null   int64 \n",
      " 2   luu_tru    3658 non-null   int64 \n",
      " 3   nha_hang   3658 non-null   int64 \n",
      " 4   an_uong    3658 non-null   int64 \n",
      " 5   di_chuyen  3658 non-null   int64 \n",
      " 6   mua_sam    3658 non-null   int64 \n",
      "dtypes: int64(6), object(1)\n",
      "memory usage: 200.2+ KB\n"
     ]
    }
   ],
   "source": [
    "df.info()"
   ]
  },
  {
   "cell_type": "code",
   "execution_count": 187,
   "id": "a7a34dbb",
   "metadata": {},
   "outputs": [
    {
     "name": "stdout",
     "output_type": "stream",
     "text": [
      "[]\n",
      "[]\n",
      "[]\n",
      "[]\n",
      "[]\n",
      "[]\n",
      "[]\n"
     ]
    }
   ],
   "source": [
    "print(df[df['Review'].isnull()].index.tolist())\n",
    "print(df[df['giai_tri'].isnull()].index.tolist())\n",
    "print(df[df['luu_tru'].isnull()].index.tolist())\n",
    "print(df[df['nha_hang'].isnull()].index.tolist())\n",
    "print(df[df['an_uong'].isnull()].index.tolist())\n",
    "print(df[df['di_chuyen'].isnull()].index.tolist())\n",
    "print(df[df['mua_sam'].isnull()].index.tolist())"
   ]
  },
  {
   "cell_type": "code",
   "execution_count": 188,
   "id": "01a824b7",
   "metadata": {},
   "outputs": [
    {
     "name": "stdout",
     "output_type": "stream",
     "text": [
      "3658\n",
      "3658\n"
     ]
    }
   ],
   "source": [
    "print(len(df['Review'].tolist()))\n",
    "print(len(set(df['Review'].tolist())))"
   ]
  },
  {
   "cell_type": "code",
   "execution_count": 158,
   "id": "c03522b2",
   "metadata": {},
   "outputs": [],
   "source": [
    "# x = df['Review'].tolist()\n",
    "# z = dict()\n",
    "# for i in x:\n",
    "#     if i in z:\n",
    "#         z[i] += 1\n",
    "#         print(i)\n",
    "#         break\n",
    "#     else:\n",
    "#         z[i] = 1 \n",
    "# with open('Data/duplicate.txt', 'w') as f:\n",
    "#     for i in z:\n",
    "#         if z[i] > 1:\n",
    "#             f.write(i+'\\n')\n",
    "# f.close()\n"
   ]
  },
  {
   "cell_type": "code",
   "execution_count": null,
   "id": "4448a6e1",
   "metadata": {},
   "outputs": [],
   "source": []
  },
  {
   "cell_type": "code",
   "execution_count": 183,
   "id": "6bc89974",
   "metadata": {},
   "outputs": [
    {
     "data": {
      "text/html": [
       "<div>\n",
       "<style scoped>\n",
       "    .dataframe tbody tr th:only-of-type {\n",
       "        vertical-align: middle;\n",
       "    }\n",
       "\n",
       "    .dataframe tbody tr th {\n",
       "        vertical-align: top;\n",
       "    }\n",
       "\n",
       "    .dataframe thead th {\n",
       "        text-align: right;\n",
       "    }\n",
       "</style>\n",
       "<table border=\"1\" class=\"dataframe\">\n",
       "  <thead>\n",
       "    <tr style=\"text-align: right;\">\n",
       "      <th></th>\n",
       "      <th>Review</th>\n",
       "      <th>a0_0</th>\n",
       "      <th>a0_1</th>\n",
       "      <th>a0_2</th>\n",
       "      <th>a0_3</th>\n",
       "      <th>a0_4</th>\n",
       "      <th>a0_5</th>\n",
       "      <th>a1_0</th>\n",
       "      <th>a1_1</th>\n",
       "      <th>a1_2</th>\n",
       "      <th>...</th>\n",
       "      <th>a4_2</th>\n",
       "      <th>a4_3</th>\n",
       "      <th>a4_4</th>\n",
       "      <th>a4_5</th>\n",
       "      <th>a5_0</th>\n",
       "      <th>a5_1</th>\n",
       "      <th>a5_2</th>\n",
       "      <th>a5_3</th>\n",
       "      <th>a5_4</th>\n",
       "      <th>a5_5</th>\n",
       "    </tr>\n",
       "  </thead>\n",
       "  <tbody>\n",
       "    <tr>\n",
       "      <th>0</th>\n",
       "      <td>Nơi đó thật kinh khủng, chúng tôi nhìn thấy nh...</td>\n",
       "      <td>1</td>\n",
       "      <td>0</td>\n",
       "      <td>0</td>\n",
       "      <td>0</td>\n",
       "      <td>0</td>\n",
       "      <td>0</td>\n",
       "      <td>1</td>\n",
       "      <td>0</td>\n",
       "      <td>0</td>\n",
       "      <td>...</td>\n",
       "      <td>0</td>\n",
       "      <td>0</td>\n",
       "      <td>0</td>\n",
       "      <td>0</td>\n",
       "      <td>1</td>\n",
       "      <td>0</td>\n",
       "      <td>0</td>\n",
       "      <td>0</td>\n",
       "      <td>0</td>\n",
       "      <td>0</td>\n",
       "    </tr>\n",
       "    <tr>\n",
       "      <th>1</th>\n",
       "      <td>Quán sạch sẽ, món ăn tươi ngon, giá lại rẻ</td>\n",
       "      <td>1</td>\n",
       "      <td>0</td>\n",
       "      <td>0</td>\n",
       "      <td>0</td>\n",
       "      <td>0</td>\n",
       "      <td>0</td>\n",
       "      <td>1</td>\n",
       "      <td>0</td>\n",
       "      <td>0</td>\n",
       "      <td>...</td>\n",
       "      <td>0</td>\n",
       "      <td>0</td>\n",
       "      <td>0</td>\n",
       "      <td>0</td>\n",
       "      <td>1</td>\n",
       "      <td>0</td>\n",
       "      <td>0</td>\n",
       "      <td>0</td>\n",
       "      <td>0</td>\n",
       "      <td>0</td>\n",
       "    </tr>\n",
       "    <tr>\n",
       "      <th>2</th>\n",
       "      <td>Phục vụ mãi mãi, thức ăn không ngon, và họ thậ...</td>\n",
       "      <td>1</td>\n",
       "      <td>0</td>\n",
       "      <td>0</td>\n",
       "      <td>0</td>\n",
       "      <td>0</td>\n",
       "      <td>0</td>\n",
       "      <td>1</td>\n",
       "      <td>0</td>\n",
       "      <td>0</td>\n",
       "      <td>...</td>\n",
       "      <td>0</td>\n",
       "      <td>0</td>\n",
       "      <td>0</td>\n",
       "      <td>0</td>\n",
       "      <td>1</td>\n",
       "      <td>0</td>\n",
       "      <td>0</td>\n",
       "      <td>0</td>\n",
       "      <td>0</td>\n",
       "      <td>0</td>\n",
       "    </tr>\n",
       "    <tr>\n",
       "      <th>3</th>\n",
       "      <td>Nhiều món đăc trưng Vú nàng nướng mỡ hành, bọ ...</td>\n",
       "      <td>1</td>\n",
       "      <td>0</td>\n",
       "      <td>0</td>\n",
       "      <td>0</td>\n",
       "      <td>0</td>\n",
       "      <td>0</td>\n",
       "      <td>1</td>\n",
       "      <td>0</td>\n",
       "      <td>0</td>\n",
       "      <td>...</td>\n",
       "      <td>0</td>\n",
       "      <td>0</td>\n",
       "      <td>0</td>\n",
       "      <td>0</td>\n",
       "      <td>1</td>\n",
       "      <td>0</td>\n",
       "      <td>0</td>\n",
       "      <td>0</td>\n",
       "      <td>0</td>\n",
       "      <td>0</td>\n",
       "    </tr>\n",
       "    <tr>\n",
       "      <th>4</th>\n",
       "      <td>Không phải là một cách tồi để đi giữa Sài Gòn ...</td>\n",
       "      <td>1</td>\n",
       "      <td>0</td>\n",
       "      <td>0</td>\n",
       "      <td>0</td>\n",
       "      <td>0</td>\n",
       "      <td>0</td>\n",
       "      <td>1</td>\n",
       "      <td>0</td>\n",
       "      <td>0</td>\n",
       "      <td>...</td>\n",
       "      <td>0</td>\n",
       "      <td>0</td>\n",
       "      <td>1</td>\n",
       "      <td>0</td>\n",
       "      <td>1</td>\n",
       "      <td>0</td>\n",
       "      <td>0</td>\n",
       "      <td>0</td>\n",
       "      <td>0</td>\n",
       "      <td>0</td>\n",
       "    </tr>\n",
       "  </tbody>\n",
       "</table>\n",
       "<p>5 rows × 37 columns</p>\n",
       "</div>"
      ],
      "text/plain": [
       "                                              Review  a0_0  a0_1  a0_2  a0_3  \\\n",
       "0  Nơi đó thật kinh khủng, chúng tôi nhìn thấy nh...     1     0     0     0   \n",
       "1         Quán sạch sẽ, món ăn tươi ngon, giá lại rẻ     1     0     0     0   \n",
       "2  Phục vụ mãi mãi, thức ăn không ngon, và họ thậ...     1     0     0     0   \n",
       "3  Nhiều món đăc trưng Vú nàng nướng mỡ hành, bọ ...     1     0     0     0   \n",
       "4  Không phải là một cách tồi để đi giữa Sài Gòn ...     1     0     0     0   \n",
       "\n",
       "   a0_4  a0_5  a1_0  a1_1  a1_2  ...  a4_2  a4_3  a4_4  a4_5  a5_0  a5_1  \\\n",
       "0     0     0     1     0     0  ...     0     0     0     0     1     0   \n",
       "1     0     0     1     0     0  ...     0     0     0     0     1     0   \n",
       "2     0     0     1     0     0  ...     0     0     0     0     1     0   \n",
       "3     0     0     1     0     0  ...     0     0     0     0     1     0   \n",
       "4     0     0     1     0     0  ...     0     0     1     0     1     0   \n",
       "\n",
       "   a5_2  a5_3  a5_4  a5_5  \n",
       "0     0     0     0     0  \n",
       "1     0     0     0     0  \n",
       "2     0     0     0     0  \n",
       "3     0     0     0     0  \n",
       "4     0     0     0     0  \n",
       "\n",
       "[5 rows x 37 columns]"
      ]
     },
     "execution_count": 183,
     "metadata": {},
     "output_type": "execute_result"
    }
   ],
   "source": [
    "new_df = dummies(df)\n",
    "new_df.head()"
   ]
  },
  {
   "cell_type": "code",
   "execution_count": 160,
   "id": "25278e8c",
   "metadata": {},
   "outputs": [
    {
     "data": {
      "text/plain": [
       "3665"
      ]
     },
     "execution_count": 160,
     "metadata": {},
     "output_type": "execute_result"
    }
   ],
   "source": [
    "len(set(new_df.Review.tolist()))"
   ]
  },
  {
   "cell_type": "code",
   "execution_count": 161,
   "id": "56e52fed",
   "metadata": {},
   "outputs": [
    {
     "name": "stdout",
     "output_type": "stream",
     "text": [
      "3665\n"
     ]
    },
    {
     "data": {
      "text/plain": [
       "['Data/data_final_remake.z']"
      ]
     },
     "execution_count": 161,
     "metadata": {},
     "output_type": "execute_result"
    }
   ],
   "source": [
    "# store_file = 'Data/data_final.z'\n",
    "store_file = 'Data/data_final_remake.z'\n",
    "# df = pd.read_csv(data_file, delimiter=',', header=0, encoding=\"utf8\")\n",
    "data = new_df.values.tolist()\n",
    "print(len(data))\n",
    "# print(data[0][0])\n",
    "# feature = [preprocess_text.preprocessing_sample(x[0]) for x in data]\n",
    "feature = [x[0] for x in data]\n",
    "label = [x[1:] for x in data]\n",
    "data = [[fe,lb] for fe,lb in zip(feature,label)]\n",
    "import joblib\n",
    "joblib.dump(data, store_file)"
   ]
  },
  {
   "cell_type": "code",
   "execution_count": 1,
   "id": "12825563",
   "metadata": {},
   "outputs": [],
   "source": [
    "# len(features)"
   ]
  },
  {
   "cell_type": "code",
   "execution_count": null,
   "id": "4e7da29d",
   "metadata": {},
   "outputs": [],
   "source": []
  },
  {
   "cell_type": "code",
   "execution_count": 99,
   "id": "94b99b7d",
   "metadata": {},
   "outputs": [],
   "source": [
    "import joblib\n",
    "def read_data(data_file):\n",
    "    if '.csv' in data_file:\n",
    "        df = pd.read_csv(data_file, delimiter=',', header=0, encoding=\"utf8\")\n",
    "        data = []\n",
    "        for sample in df.values.tolist():\n",
    "            data.append([sample[0], sample[1:]])\n",
    "        return data\n",
    "    else:\n",
    "        return joblib.load(data_file)"
   ]
  },
  {
   "cell_type": "code",
   "execution_count": 100,
   "id": "3691a006",
   "metadata": {},
   "outputs": [],
   "source": [
    "data = read_data('Data_Add/train_1000.z')"
   ]
  },
  {
   "cell_type": "code",
   "execution_count": 101,
   "id": "9881aa79",
   "metadata": {},
   "outputs": [
    {
     "data": {
      "text/plain": [
       "1000"
      ]
     },
     "execution_count": 101,
     "metadata": {},
     "output_type": "execute_result"
    }
   ],
   "source": [
    "len(data)"
   ]
  },
  {
   "cell_type": "code",
   "execution_count": 102,
   "id": "3eedd960",
   "metadata": {},
   "outputs": [],
   "source": [
    "labels = [i[1] for i in data]"
   ]
  },
  {
   "cell_type": "code",
   "execution_count": 103,
   "id": "1b76dd5b",
   "metadata": {},
   "outputs": [],
   "source": [
    "import numpy as np\n",
    "x = np.array(labels)"
   ]
  },
  {
   "cell_type": "code",
   "execution_count": 104,
   "id": "15ad9456",
   "metadata": {},
   "outputs": [
    {
     "data": {
      "text/plain": [
       "(1000, 36)"
      ]
     },
     "execution_count": 104,
     "metadata": {},
     "output_type": "execute_result"
    }
   ],
   "source": [
    "x.shape"
   ]
  },
  {
   "cell_type": "code",
   "execution_count": 105,
   "id": "7ef02b4f",
   "metadata": {},
   "outputs": [
    {
     "data": {
      "text/plain": [
       "array([ 0,  0,  0,  0,  0,  0, -1,  0,  0,  0,  0,  1, -1,  0,  0,  0,  0,\n",
       "        1,  0, -1,  0,  0,  0,  1, -1,  0,  0,  0,  0,  1,  0,  0,  0,  0,\n",
       "        0,  0])"
      ]
     },
     "execution_count": 105,
     "metadata": {},
     "output_type": "execute_result"
    }
   ],
   "source": [
    "x[1] - x[2]"
   ]
  },
  {
   "cell_type": "code",
   "execution_count": 106,
   "id": "9d7c88af",
   "metadata": {},
   "outputs": [],
   "source": [
    "import torch\n",
    "labels = torch.tensor(np.array(labels), dtype=torch.float)"
   ]
  },
  {
   "cell_type": "code",
   "execution_count": 107,
   "id": "cb9ed409",
   "metadata": {},
   "outputs": [],
   "source": [
    "train_data = read_data('Data/clean-train.z')\n",
    "#     if args.aug_train_folder:\n",
    "#     if args.add_aug_data:\n",
    "#         for f in os.listdir(args.aug_train_folder):\n",
    "#             train_data.extend(read_data(args.aug_train_folder+f))\n",
    "train_data.extend(read_data('Data_Add/train_1000.z'))"
   ]
  },
  {
   "cell_type": "code",
   "execution_count": 108,
   "id": "1e4ddfe1",
   "metadata": {},
   "outputs": [
    {
     "data": {
      "text/plain": [
       "3965"
      ]
     },
     "execution_count": 108,
     "metadata": {},
     "output_type": "execute_result"
    }
   ],
   "source": [
    "len(train_data)"
   ]
  },
  {
   "cell_type": "code",
   "execution_count": 109,
   "id": "37358205",
   "metadata": {},
   "outputs": [],
   "source": [
    "labels = []\n",
    "for sample in train_data:\n",
    "    labels.append(sample[1])"
   ]
  },
  {
   "cell_type": "code",
   "execution_count": 110,
   "id": "31c9330a",
   "metadata": {},
   "outputs": [],
   "source": [
    "labels = torch.tensor(np.array(labels), dtype=torch.float)"
   ]
  },
  {
   "cell_type": "code",
   "execution_count": null,
   "id": "ab9af237",
   "metadata": {},
   "outputs": [],
   "source": []
  },
  {
   "cell_type": "code",
   "execution_count": null,
   "id": "295c9ba9",
   "metadata": {},
   "outputs": [],
   "source": []
  },
  {
   "cell_type": "code",
   "execution_count": null,
   "id": "759c0eb5",
   "metadata": {},
   "outputs": [],
   "source": []
  },
  {
   "cell_type": "code",
   "execution_count": 1,
   "id": "1726326f",
   "metadata": {},
   "outputs": [],
   "source": [
    "import joblib\n",
    "data = joblib.load('Data/clean-train.z')"
   ]
  },
  {
   "cell_type": "code",
   "execution_count": 4,
   "id": "2ecc4564",
   "metadata": {},
   "outputs": [],
   "source": [
    "sample = data[0]\n",
    "logit = sample[1]"
   ]
  },
  {
   "cell_type": "code",
   "execution_count": 6,
   "id": "1008de61",
   "metadata": {},
   "outputs": [],
   "source": [
    "aspect_logit = []\n",
    "score_logit = []\n",
    "for i in range(0, 36, 6):\n",
    "    x = logit[i:i+6].index(max(logit[i:i+6]))\n",
    "    if x > 0:\n",
    "        aspect_logit.append(1)\n",
    "    else:\n",
    "        aspect_logit.append(0)\n",
    "    score_logit.append(x)"
   ]
  },
  {
   "cell_type": "code",
   "execution_count": 8,
   "id": "8ddc484e",
   "metadata": {},
   "outputs": [
    {
     "data": {
      "text/plain": [
       "[0, 0, 0, 5, 0, 0]"
      ]
     },
     "execution_count": 8,
     "metadata": {},
     "output_type": "execute_result"
    }
   ],
   "source": [
    "score_logit"
   ]
  },
  {
   "cell_type": "code",
   "execution_count": null,
   "id": "26fe3c1d",
   "metadata": {},
   "outputs": [],
   "source": []
  },
  {
   "cell_type": "code",
   "execution_count": null,
   "id": "50472b76",
   "metadata": {},
   "outputs": [],
   "source": []
  },
  {
   "cell_type": "code",
   "execution_count": null,
   "id": "7934e720",
   "metadata": {},
   "outputs": [],
   "source": []
  },
  {
   "cell_type": "code",
   "execution_count": null,
   "id": "ad39deb8",
   "metadata": {},
   "outputs": [],
   "source": []
  },
  {
   "cell_type": "markdown",
   "id": "bf48993c",
   "metadata": {},
   "source": [
    "## Oversampling"
   ]
  },
  {
   "cell_type": "code",
   "execution_count": 28,
   "id": "61511d44",
   "metadata": {},
   "outputs": [],
   "source": [
    "import pandas as pd\n",
    "train_df = pd.read_csv('Data/train-problem2.csv')"
   ]
  },
  {
   "cell_type": "code",
   "execution_count": 29,
   "id": "1bb8d815",
   "metadata": {},
   "outputs": [],
   "source": [
    "import numpy as np\n",
    "len_data = []\n",
    "for i in range(6):\n",
    "    len_data.append(len(train_df[train_df[f\"a{i}\"] >0]))\n",
    "\n",
    "max_field = np.argmax(len_data)\n",
    "max_count = max(len_data)"
   ]
  },
  {
   "cell_type": "code",
   "execution_count": 30,
   "id": "8cd7cd3c",
   "metadata": {},
   "outputs": [
    {
     "data": {
      "text/html": [
       "<div>\n",
       "<style scoped>\n",
       "    .dataframe tbody tr th:only-of-type {\n",
       "        vertical-align: middle;\n",
       "    }\n",
       "\n",
       "    .dataframe tbody tr th {\n",
       "        vertical-align: top;\n",
       "    }\n",
       "\n",
       "    .dataframe thead th {\n",
       "        text-align: right;\n",
       "    }\n",
       "</style>\n",
       "<table border=\"1\" class=\"dataframe\">\n",
       "  <thead>\n",
       "    <tr style=\"text-align: right;\">\n",
       "      <th></th>\n",
       "      <th>Review</th>\n",
       "      <th>a0</th>\n",
       "      <th>a1</th>\n",
       "      <th>a2</th>\n",
       "      <th>a3</th>\n",
       "      <th>a4</th>\n",
       "      <th>a5</th>\n",
       "    </tr>\n",
       "  </thead>\n",
       "  <tbody>\n",
       "    <tr>\n",
       "      <th>4</th>\n",
       "      <td>Rất khuyên bạn nên ghé thăm quán bar thể thao này</td>\n",
       "      <td>3</td>\n",
       "      <td>0</td>\n",
       "      <td>0</td>\n",
       "      <td>0</td>\n",
       "      <td>0</td>\n",
       "      <td>0</td>\n",
       "    </tr>\n",
       "    <tr>\n",
       "      <th>7</th>\n",
       "      <td>Tôi bắt xe 7 chỗ đi từ sân bay về nhà.Thái độ ...</td>\n",
       "      <td>1</td>\n",
       "      <td>0</td>\n",
       "      <td>0</td>\n",
       "      <td>0</td>\n",
       "      <td>1</td>\n",
       "      <td>0</td>\n",
       "    </tr>\n",
       "    <tr>\n",
       "      <th>8</th>\n",
       "      <td>Bãi Đá Trứng có những viên đá hình tròn hoặc b...</td>\n",
       "      <td>5</td>\n",
       "      <td>0</td>\n",
       "      <td>0</td>\n",
       "      <td>0</td>\n",
       "      <td>0</td>\n",
       "      <td>0</td>\n",
       "    </tr>\n",
       "    <tr>\n",
       "      <th>18</th>\n",
       "      <td>Hiện  tại đã tu sửa xong, tuy nhiên loại hình ...</td>\n",
       "      <td>4</td>\n",
       "      <td>0</td>\n",
       "      <td>0</td>\n",
       "      <td>0</td>\n",
       "      <td>0</td>\n",
       "      <td>0</td>\n",
       "    </tr>\n",
       "    <tr>\n",
       "      <th>26</th>\n",
       "      <td>Mát mẻ,nhìn cũng dc,nhưng ko có gì đặc sắc cho...</td>\n",
       "      <td>4</td>\n",
       "      <td>0</td>\n",
       "      <td>0</td>\n",
       "      <td>0</td>\n",
       "      <td>0</td>\n",
       "      <td>0</td>\n",
       "    </tr>\n",
       "    <tr>\n",
       "      <th>...</th>\n",
       "      <td>...</td>\n",
       "      <td>...</td>\n",
       "      <td>...</td>\n",
       "      <td>...</td>\n",
       "      <td>...</td>\n",
       "      <td>...</td>\n",
       "      <td>...</td>\n",
       "    </tr>\n",
       "    <tr>\n",
       "      <th>2949</th>\n",
       "      <td>Nhận và giao hàng ổn nhưng thông báo trước 1 n...</td>\n",
       "      <td>4</td>\n",
       "      <td>0</td>\n",
       "      <td>0</td>\n",
       "      <td>0</td>\n",
       "      <td>4</td>\n",
       "      <td>0</td>\n",
       "    </tr>\n",
       "    <tr>\n",
       "      <th>2950</th>\n",
       "      <td>Không khí trên quán bar thì khỏi chê rồi, nhạc...</td>\n",
       "      <td>4</td>\n",
       "      <td>0</td>\n",
       "      <td>0</td>\n",
       "      <td>0</td>\n",
       "      <td>0</td>\n",
       "      <td>0</td>\n",
       "    </tr>\n",
       "    <tr>\n",
       "      <th>2951</th>\n",
       "      <td>Safari chỉ có tầm 14 loài thôi, mà khỉ là nhiề...</td>\n",
       "      <td>3</td>\n",
       "      <td>0</td>\n",
       "      <td>0</td>\n",
       "      <td>0</td>\n",
       "      <td>0</td>\n",
       "      <td>0</td>\n",
       "    </tr>\n",
       "    <tr>\n",
       "      <th>2956</th>\n",
       "      <td>Là địa điểm tốt cho các tín đồ sống ảo: bãi bi...</td>\n",
       "      <td>4</td>\n",
       "      <td>0</td>\n",
       "      <td>0</td>\n",
       "      <td>0</td>\n",
       "      <td>0</td>\n",
       "      <td>0</td>\n",
       "    </tr>\n",
       "    <tr>\n",
       "      <th>2959</th>\n",
       "      <td>Tài xế thân thiện và xe sạch sẽ. Đây là một cá...</td>\n",
       "      <td>5</td>\n",
       "      <td>0</td>\n",
       "      <td>0</td>\n",
       "      <td>0</td>\n",
       "      <td>0</td>\n",
       "      <td>0</td>\n",
       "    </tr>\n",
       "  </tbody>\n",
       "</table>\n",
       "<p>369 rows × 7 columns</p>\n",
       "</div>"
      ],
      "text/plain": [
       "                                                 Review  a0  a1  a2  a3  a4  \\\n",
       "4     Rất khuyên bạn nên ghé thăm quán bar thể thao này   3   0   0   0   0   \n",
       "7     Tôi bắt xe 7 chỗ đi từ sân bay về nhà.Thái độ ...   1   0   0   0   1   \n",
       "8     Bãi Đá Trứng có những viên đá hình tròn hoặc b...   5   0   0   0   0   \n",
       "18    Hiện  tại đã tu sửa xong, tuy nhiên loại hình ...   4   0   0   0   0   \n",
       "26    Mát mẻ,nhìn cũng dc,nhưng ko có gì đặc sắc cho...   4   0   0   0   0   \n",
       "...                                                 ...  ..  ..  ..  ..  ..   \n",
       "2949  Nhận và giao hàng ổn nhưng thông báo trước 1 n...   4   0   0   0   4   \n",
       "2950  Không khí trên quán bar thì khỏi chê rồi, nhạc...   4   0   0   0   0   \n",
       "2951  Safari chỉ có tầm 14 loài thôi, mà khỉ là nhiề...   3   0   0   0   0   \n",
       "2956  Là địa điểm tốt cho các tín đồ sống ảo: bãi bi...   4   0   0   0   0   \n",
       "2959  Tài xế thân thiện và xe sạch sẽ. Đây là một cá...   5   0   0   0   0   \n",
       "\n",
       "      a5  \n",
       "4      0  \n",
       "7      0  \n",
       "8      0  \n",
       "18     0  \n",
       "26     0  \n",
       "...   ..  \n",
       "2949   0  \n",
       "2950   0  \n",
       "2951   0  \n",
       "2956   0  \n",
       "2959   0  \n",
       "\n",
       "[369 rows x 7 columns]"
      ]
     },
     "execution_count": 30,
     "metadata": {},
     "output_type": "execute_result"
    }
   ],
   "source": [
    "train_df[(train_df[f\"a{max_field}\"] ==0) & (train_df[f'a{0}'] >0)]"
   ]
  },
  {
   "cell_type": "code",
   "execution_count": 31,
   "id": "94d5fa43",
   "metadata": {},
   "outputs": [],
   "source": [
    "unique_field = []\n",
    "for i in range(6):\n",
    "    if i != max_field:\n",
    "        unique_field.append(train_df[(train_df[f\"a{max_field}\"] ==0) & (train_df[f'a{i}'] >0)])\n",
    "    if i == max_field:\n",
    "        unique_field.append(train_df[train_df[f'a{i}']> 0])"
   ]
  },
  {
   "cell_type": "code",
   "execution_count": 32,
   "id": "c98fc510",
   "metadata": {},
   "outputs": [
    {
     "data": {
      "text/plain": [
       "6"
      ]
     },
     "execution_count": 32,
     "metadata": {},
     "output_type": "execute_result"
    }
   ],
   "source": [
    "len(unique_field)"
   ]
  },
  {
   "cell_type": "code",
   "execution_count": 33,
   "id": "646bdc4f",
   "metadata": {},
   "outputs": [
    {
     "data": {
      "text/html": [
       "<div>\n",
       "<style scoped>\n",
       "    .dataframe tbody tr th:only-of-type {\n",
       "        vertical-align: middle;\n",
       "    }\n",
       "\n",
       "    .dataframe tbody tr th {\n",
       "        vertical-align: top;\n",
       "    }\n",
       "\n",
       "    .dataframe thead th {\n",
       "        text-align: right;\n",
       "    }\n",
       "</style>\n",
       "<table border=\"1\" class=\"dataframe\">\n",
       "  <thead>\n",
       "    <tr style=\"text-align: right;\">\n",
       "      <th></th>\n",
       "      <th>Review</th>\n",
       "      <th>a0</th>\n",
       "      <th>a1</th>\n",
       "      <th>a2</th>\n",
       "      <th>a3</th>\n",
       "      <th>a4</th>\n",
       "      <th>a5</th>\n",
       "    </tr>\n",
       "  </thead>\n",
       "  <tbody>\n",
       "    <tr>\n",
       "      <th>0</th>\n",
       "      <td>Rất khuyên bạn nên ghé thăm quán bar thể thao này</td>\n",
       "      <td>3</td>\n",
       "      <td>0</td>\n",
       "      <td>0</td>\n",
       "      <td>0</td>\n",
       "      <td>0</td>\n",
       "      <td>0</td>\n",
       "    </tr>\n",
       "    <tr>\n",
       "      <th>1</th>\n",
       "      <td>Tôi bắt xe 7 chỗ đi từ sân bay về nhà.Thái độ ...</td>\n",
       "      <td>1</td>\n",
       "      <td>0</td>\n",
       "      <td>0</td>\n",
       "      <td>0</td>\n",
       "      <td>1</td>\n",
       "      <td>0</td>\n",
       "    </tr>\n",
       "    <tr>\n",
       "      <th>2</th>\n",
       "      <td>Bãi Đá Trứng có những viên đá hình tròn hoặc b...</td>\n",
       "      <td>5</td>\n",
       "      <td>0</td>\n",
       "      <td>0</td>\n",
       "      <td>0</td>\n",
       "      <td>0</td>\n",
       "      <td>0</td>\n",
       "    </tr>\n",
       "    <tr>\n",
       "      <th>3</th>\n",
       "      <td>Hiện  tại đã tu sửa xong, tuy nhiên loại hình ...</td>\n",
       "      <td>4</td>\n",
       "      <td>0</td>\n",
       "      <td>0</td>\n",
       "      <td>0</td>\n",
       "      <td>0</td>\n",
       "      <td>0</td>\n",
       "    </tr>\n",
       "    <tr>\n",
       "      <th>4</th>\n",
       "      <td>Mát mẻ,nhìn cũng dc,nhưng ko có gì đặc sắc cho...</td>\n",
       "      <td>4</td>\n",
       "      <td>0</td>\n",
       "      <td>0</td>\n",
       "      <td>0</td>\n",
       "      <td>0</td>\n",
       "      <td>0</td>\n",
       "    </tr>\n",
       "    <tr>\n",
       "      <th>...</th>\n",
       "      <td>...</td>\n",
       "      <td>...</td>\n",
       "      <td>...</td>\n",
       "      <td>...</td>\n",
       "      <td>...</td>\n",
       "      <td>...</td>\n",
       "      <td>...</td>\n",
       "    </tr>\n",
       "    <tr>\n",
       "      <th>364</th>\n",
       "      <td>Nhận và giao hàng ổn nhưng thông báo trước 1 n...</td>\n",
       "      <td>4</td>\n",
       "      <td>0</td>\n",
       "      <td>0</td>\n",
       "      <td>0</td>\n",
       "      <td>4</td>\n",
       "      <td>0</td>\n",
       "    </tr>\n",
       "    <tr>\n",
       "      <th>365</th>\n",
       "      <td>Không khí trên quán bar thì khỏi chê rồi, nhạc...</td>\n",
       "      <td>4</td>\n",
       "      <td>0</td>\n",
       "      <td>0</td>\n",
       "      <td>0</td>\n",
       "      <td>0</td>\n",
       "      <td>0</td>\n",
       "    </tr>\n",
       "    <tr>\n",
       "      <th>366</th>\n",
       "      <td>Safari chỉ có tầm 14 loài thôi, mà khỉ là nhiề...</td>\n",
       "      <td>3</td>\n",
       "      <td>0</td>\n",
       "      <td>0</td>\n",
       "      <td>0</td>\n",
       "      <td>0</td>\n",
       "      <td>0</td>\n",
       "    </tr>\n",
       "    <tr>\n",
       "      <th>367</th>\n",
       "      <td>Là địa điểm tốt cho các tín đồ sống ảo: bãi bi...</td>\n",
       "      <td>4</td>\n",
       "      <td>0</td>\n",
       "      <td>0</td>\n",
       "      <td>0</td>\n",
       "      <td>0</td>\n",
       "      <td>0</td>\n",
       "    </tr>\n",
       "    <tr>\n",
       "      <th>368</th>\n",
       "      <td>Tài xế thân thiện và xe sạch sẽ. Đây là một cá...</td>\n",
       "      <td>5</td>\n",
       "      <td>0</td>\n",
       "      <td>0</td>\n",
       "      <td>0</td>\n",
       "      <td>0</td>\n",
       "      <td>0</td>\n",
       "    </tr>\n",
       "  </tbody>\n",
       "</table>\n",
       "<p>369 rows × 7 columns</p>\n",
       "</div>"
      ],
      "text/plain": [
       "                                                Review  a0  a1  a2  a3  a4  a5\n",
       "0    Rất khuyên bạn nên ghé thăm quán bar thể thao này   3   0   0   0   0   0\n",
       "1    Tôi bắt xe 7 chỗ đi từ sân bay về nhà.Thái độ ...   1   0   0   0   1   0\n",
       "2    Bãi Đá Trứng có những viên đá hình tròn hoặc b...   5   0   0   0   0   0\n",
       "3    Hiện  tại đã tu sửa xong, tuy nhiên loại hình ...   4   0   0   0   0   0\n",
       "4    Mát mẻ,nhìn cũng dc,nhưng ko có gì đặc sắc cho...   4   0   0   0   0   0\n",
       "..                                                 ...  ..  ..  ..  ..  ..  ..\n",
       "364  Nhận và giao hàng ổn nhưng thông báo trước 1 n...   4   0   0   0   4   0\n",
       "365  Không khí trên quán bar thì khỏi chê rồi, nhạc...   4   0   0   0   0   0\n",
       "366  Safari chỉ có tầm 14 loài thôi, mà khỉ là nhiề...   3   0   0   0   0   0\n",
       "367  Là địa điểm tốt cho các tín đồ sống ảo: bãi bi...   4   0   0   0   0   0\n",
       "368  Tài xế thân thiện và xe sạch sẽ. Đây là một cá...   5   0   0   0   0   0\n",
       "\n",
       "[369 rows x 7 columns]"
      ]
     },
     "execution_count": 33,
     "metadata": {},
     "output_type": "execute_result"
    }
   ],
   "source": [
    "for i in range(len(unique_field)):\n",
    "    unique_field[i] = unique_field[i].reset_index(drop= True)\n",
    "unique_field[0]"
   ]
  },
  {
   "cell_type": "code",
   "execution_count": 35,
   "id": "1221357d",
   "metadata": {},
   "outputs": [],
   "source": [
    "added = []\n",
    "added.append(max_field)\n",
    "len_data[max_field] = 0\n",
    "while(sum(len_data) != 0):\n",
    "\n",
    "    max_field_i = np.argmax(len_data)\n",
    "    added.append(max_field_i)\n",
    "    required_sample = max_count - np.max(len_data)\n",
    "    chosen_idx = np.random.choice(len(unique_field[max_field_i]), replace = True, size =required_sample )\n",
    "    add_df = unique_field[max_field_i].iloc[chosen_idx]\n",
    "    break\n",
    "    train_df = train_df.append(add_df,ignore_index=True)\n",
    "#     train_df = pd.concat(train_df, add_df)\n",
    "    break\n",
    "    #### update param\n",
    "    len_data[max_field_i] = 0\n",
    "    for i in range(len(len_data)):\n",
    "        if len_data[i] !=0:\n",
    "            len_data[i] = len_data[i] + len(add_df[add_df[f'a{i}'] > 0])\n",
    "            unique_field[i] = unique_field[i][unique_field[i][f'a{max_field_i}'] == 0]"
   ]
  },
  {
   "cell_type": "code",
   "execution_count": 36,
   "id": "838cc399",
   "metadata": {},
   "outputs": [
    {
     "data": {
      "text/html": [
       "<div>\n",
       "<style scoped>\n",
       "    .dataframe tbody tr th:only-of-type {\n",
       "        vertical-align: middle;\n",
       "    }\n",
       "\n",
       "    .dataframe tbody tr th {\n",
       "        vertical-align: top;\n",
       "    }\n",
       "\n",
       "    .dataframe thead th {\n",
       "        text-align: right;\n",
       "    }\n",
       "</style>\n",
       "<table border=\"1\" class=\"dataframe\">\n",
       "  <thead>\n",
       "    <tr style=\"text-align: right;\">\n",
       "      <th></th>\n",
       "      <th>Review</th>\n",
       "      <th>a0</th>\n",
       "      <th>a1</th>\n",
       "      <th>a2</th>\n",
       "      <th>a3</th>\n",
       "      <th>a4</th>\n",
       "      <th>a5</th>\n",
       "    </tr>\n",
       "  </thead>\n",
       "  <tbody>\n",
       "    <tr>\n",
       "      <th>0</th>\n",
       "      <td>Phòng có giường lớn, êm đẹp, sạch sẽ,... Lễ tâ...</td>\n",
       "      <td>0</td>\n",
       "      <td>5</td>\n",
       "      <td>0</td>\n",
       "      <td>0</td>\n",
       "      <td>0</td>\n",
       "      <td>0</td>\n",
       "    </tr>\n",
       "    <tr>\n",
       "      <th>499</th>\n",
       "      <td>Đây là lần thứ 2 quay lại chỗ này. Ban đầu mìn...</td>\n",
       "      <td>0</td>\n",
       "      <td>5</td>\n",
       "      <td>0</td>\n",
       "      <td>0</td>\n",
       "      <td>0</td>\n",
       "      <td>0</td>\n",
       "    </tr>\n",
       "    <tr>\n",
       "      <th>176</th>\n",
       "      <td>Toilet bố trí không phù hợp lắm. Gương lớn chi...</td>\n",
       "      <td>0</td>\n",
       "      <td>3</td>\n",
       "      <td>0</td>\n",
       "      <td>0</td>\n",
       "      <td>0</td>\n",
       "      <td>0</td>\n",
       "    </tr>\n",
       "    <tr>\n",
       "      <th>546</th>\n",
       "      <td>Phòng gia đình nhưng bị tách thành 2 phòng ghé...</td>\n",
       "      <td>0</td>\n",
       "      <td>3</td>\n",
       "      <td>0</td>\n",
       "      <td>0</td>\n",
       "      <td>0</td>\n",
       "      <td>0</td>\n",
       "    </tr>\n",
       "    <tr>\n",
       "      <th>127</th>\n",
       "      <td>Thiếu nhiều vật dung cơ bản: khăn giấy trên ph...</td>\n",
       "      <td>0</td>\n",
       "      <td>1</td>\n",
       "      <td>0</td>\n",
       "      <td>0</td>\n",
       "      <td>0</td>\n",
       "      <td>0</td>\n",
       "    </tr>\n",
       "    <tr>\n",
       "      <th>...</th>\n",
       "      <td>...</td>\n",
       "      <td>...</td>\n",
       "      <td>...</td>\n",
       "      <td>...</td>\n",
       "      <td>...</td>\n",
       "      <td>...</td>\n",
       "      <td>...</td>\n",
       "    </tr>\n",
       "    <tr>\n",
       "      <th>567</th>\n",
       "      <td>Chất lượng dịch vụ tại fleur de lys oke, nhân ...</td>\n",
       "      <td>0</td>\n",
       "      <td>5</td>\n",
       "      <td>0</td>\n",
       "      <td>0</td>\n",
       "      <td>0</td>\n",
       "      <td>0</td>\n",
       "    </tr>\n",
       "    <tr>\n",
       "      <th>535</th>\n",
       "      <td>Buổi tối có hơi ồn một tí! Nhưng vẫn ok.</td>\n",
       "      <td>0</td>\n",
       "      <td>4</td>\n",
       "      <td>0</td>\n",
       "      <td>0</td>\n",
       "      <td>0</td>\n",
       "      <td>0</td>\n",
       "    </tr>\n",
       "    <tr>\n",
       "      <th>435</th>\n",
       "      <td>Ks gần biển, phòng mình có view hướng biển cả ...</td>\n",
       "      <td>0</td>\n",
       "      <td>4</td>\n",
       "      <td>0</td>\n",
       "      <td>0</td>\n",
       "      <td>0</td>\n",
       "      <td>0</td>\n",
       "    </tr>\n",
       "    <tr>\n",
       "      <th>276</th>\n",
       "      <td>địa chỉ trên booking cần cụ thể hơn. mình mất ...</td>\n",
       "      <td>0</td>\n",
       "      <td>3</td>\n",
       "      <td>0</td>\n",
       "      <td>0</td>\n",
       "      <td>0</td>\n",
       "      <td>0</td>\n",
       "    </tr>\n",
       "    <tr>\n",
       "      <th>72</th>\n",
       "      <td>Khách sạn thì giá phòng ok, nhân viên cũng thâ...</td>\n",
       "      <td>0</td>\n",
       "      <td>4</td>\n",
       "      <td>0</td>\n",
       "      <td>0</td>\n",
       "      <td>0</td>\n",
       "      <td>0</td>\n",
       "    </tr>\n",
       "  </tbody>\n",
       "</table>\n",
       "<p>532 rows × 7 columns</p>\n",
       "</div>"
      ],
      "text/plain": [
       "                                                Review  a0  a1  a2  a3  a4  a5\n",
       "0    Phòng có giường lớn, êm đẹp, sạch sẽ,... Lễ tâ...   0   5   0   0   0   0\n",
       "499  Đây là lần thứ 2 quay lại chỗ này. Ban đầu mìn...   0   5   0   0   0   0\n",
       "176  Toilet bố trí không phù hợp lắm. Gương lớn chi...   0   3   0   0   0   0\n",
       "546  Phòng gia đình nhưng bị tách thành 2 phòng ghé...   0   3   0   0   0   0\n",
       "127  Thiếu nhiều vật dung cơ bản: khăn giấy trên ph...   0   1   0   0   0   0\n",
       "..                                                 ...  ..  ..  ..  ..  ..  ..\n",
       "567  Chất lượng dịch vụ tại fleur de lys oke, nhân ...   0   5   0   0   0   0\n",
       "535           Buổi tối có hơi ồn một tí! Nhưng vẫn ok.   0   4   0   0   0   0\n",
       "435  Ks gần biển, phòng mình có view hướng biển cả ...   0   4   0   0   0   0\n",
       "276  địa chỉ trên booking cần cụ thể hơn. mình mất ...   0   3   0   0   0   0\n",
       "72   Khách sạn thì giá phòng ok, nhân viên cũng thâ...   0   4   0   0   0   0\n",
       "\n",
       "[532 rows x 7 columns]"
      ]
     },
     "execution_count": 36,
     "metadata": {},
     "output_type": "execute_result"
    }
   ],
   "source": [
    "add_df"
   ]
  },
  {
   "cell_type": "code",
   "execution_count": 37,
   "id": "25b427fb",
   "metadata": {},
   "outputs": [
    {
     "name": "stdout",
     "output_type": "stream",
     "text": [
      "<class 'pandas.core.frame.DataFrame'>\n",
      "RangeIndex: 3497 entries, 0 to 3496\n",
      "Data columns (total 7 columns):\n",
      " #   Column  Non-Null Count  Dtype \n",
      "---  ------  --------------  ----- \n",
      " 0   Review  3497 non-null   object\n",
      " 1   a0      3497 non-null   int64 \n",
      " 2   a1      3497 non-null   int64 \n",
      " 3   a2      3497 non-null   int64 \n",
      " 4   a3      3497 non-null   int64 \n",
      " 5   a4      3497 non-null   int64 \n",
      " 6   a5      3497 non-null   int64 \n",
      "dtypes: int64(6), object(1)\n",
      "memory usage: 191.4+ KB\n"
     ]
    }
   ],
   "source": [
    "train_df.info()"
   ]
  },
  {
   "cell_type": "code",
   "execution_count": 8,
   "id": "56b6daed",
   "metadata": {},
   "outputs": [],
   "source": [
    "len_data = []\n",
    "for i in range(6):\n",
    "    len_data.append(len(train_df[train_df[f'a{i}']>0]))"
   ]
  },
  {
   "cell_type": "code",
   "execution_count": 9,
   "id": "b531a61a",
   "metadata": {},
   "outputs": [
    {
     "data": {
      "text/plain": [
       "[1177, 1177, 1177, 1177, 1177, 1177]"
      ]
     },
     "execution_count": 9,
     "metadata": {},
     "output_type": "execute_result"
    }
   ],
   "source": [
    "len_data"
   ]
  },
  {
   "cell_type": "code",
   "execution_count": 10,
   "id": "af9ae6f9",
   "metadata": {},
   "outputs": [
    {
     "name": "stdout",
     "output_type": "stream",
     "text": [
      "<class 'pandas.core.frame.DataFrame'>\n",
      "RangeIndex: 6492 entries, 0 to 6491\n",
      "Data columns (total 7 columns):\n",
      " #   Column  Non-Null Count  Dtype \n",
      "---  ------  --------------  ----- \n",
      " 0   Review  6492 non-null   object\n",
      " 1   a0      6492 non-null   int64 \n",
      " 2   a1      6492 non-null   int64 \n",
      " 3   a2      6492 non-null   int64 \n",
      " 4   a3      6492 non-null   int64 \n",
      " 5   a4      6492 non-null   int64 \n",
      " 6   a5      6492 non-null   int64 \n",
      "dtypes: int64(6), object(1)\n",
      "memory usage: 355.2+ KB\n"
     ]
    }
   ],
   "source": [
    "train_df.info()"
   ]
  },
  {
   "cell_type": "code",
   "execution_count": 11,
   "id": "b0122061",
   "metadata": {},
   "outputs": [
    {
     "data": {
      "text/html": [
       "<div>\n",
       "<style scoped>\n",
       "    .dataframe tbody tr th:only-of-type {\n",
       "        vertical-align: middle;\n",
       "    }\n",
       "\n",
       "    .dataframe tbody tr th {\n",
       "        vertical-align: top;\n",
       "    }\n",
       "\n",
       "    .dataframe thead th {\n",
       "        text-align: right;\n",
       "    }\n",
       "</style>\n",
       "<table border=\"1\" class=\"dataframe\">\n",
       "  <thead>\n",
       "    <tr style=\"text-align: right;\">\n",
       "      <th></th>\n",
       "      <th>Review</th>\n",
       "      <th>a0</th>\n",
       "      <th>a1</th>\n",
       "      <th>a2</th>\n",
       "      <th>a3</th>\n",
       "      <th>a4</th>\n",
       "      <th>a5</th>\n",
       "    </tr>\n",
       "  </thead>\n",
       "  <tbody>\n",
       "    <tr>\n",
       "      <th>0</th>\n",
       "      <td>Bánh rất nhiều tôm to, tôm giòn nằm chễm chệ t...</td>\n",
       "      <td>0</td>\n",
       "      <td>0</td>\n",
       "      <td>0</td>\n",
       "      <td>5</td>\n",
       "      <td>0</td>\n",
       "      <td>0</td>\n",
       "    </tr>\n",
       "    <tr>\n",
       "      <th>1</th>\n",
       "      <td>Đi Quy Nhơn cứ lo không có pizza ăn nhưng nhờ ...</td>\n",
       "      <td>0</td>\n",
       "      <td>0</td>\n",
       "      <td>0</td>\n",
       "      <td>5</td>\n",
       "      <td>0</td>\n",
       "      <td>0</td>\n",
       "    </tr>\n",
       "    <tr>\n",
       "      <th>2</th>\n",
       "      <td>các món ăn ở đây không có gì đặc sắc, có lẽ nấ...</td>\n",
       "      <td>0</td>\n",
       "      <td>0</td>\n",
       "      <td>1</td>\n",
       "      <td>1</td>\n",
       "      <td>0</td>\n",
       "      <td>0</td>\n",
       "    </tr>\n",
       "    <tr>\n",
       "      <th>3</th>\n",
       "      <td>Lần thứ 2 quay lại đây, vì giới thiệu quán cà ...</td>\n",
       "      <td>0</td>\n",
       "      <td>0</td>\n",
       "      <td>0</td>\n",
       "      <td>2</td>\n",
       "      <td>0</td>\n",
       "      <td>0</td>\n",
       "    </tr>\n",
       "    <tr>\n",
       "      <th>4</th>\n",
       "      <td>Rất khuyên bạn nên ghé thăm quán bar thể thao này</td>\n",
       "      <td>3</td>\n",
       "      <td>0</td>\n",
       "      <td>0</td>\n",
       "      <td>0</td>\n",
       "      <td>0</td>\n",
       "      <td>0</td>\n",
       "    </tr>\n",
       "  </tbody>\n",
       "</table>\n",
       "</div>"
      ],
      "text/plain": [
       "                                              Review  a0  a1  a2  a3  a4  a5\n",
       "0  Bánh rất nhiều tôm to, tôm giòn nằm chễm chệ t...   0   0   0   5   0   0\n",
       "1  Đi Quy Nhơn cứ lo không có pizza ăn nhưng nhờ ...   0   0   0   5   0   0\n",
       "2  các món ăn ở đây không có gì đặc sắc, có lẽ nấ...   0   0   1   1   0   0\n",
       "3  Lần thứ 2 quay lại đây, vì giới thiệu quán cà ...   0   0   0   2   0   0\n",
       "4  Rất khuyên bạn nên ghé thăm quán bar thể thao này   3   0   0   0   0   0"
      ]
     },
     "execution_count": 11,
     "metadata": {},
     "output_type": "execute_result"
    }
   ],
   "source": [
    "train_df.head()"
   ]
  },
  {
   "cell_type": "code",
   "execution_count": null,
   "id": "84dcfe3f",
   "metadata": {},
   "outputs": [],
   "source": []
  },
  {
   "cell_type": "code",
   "execution_count": null,
   "id": "4ef6f3aa",
   "metadata": {},
   "outputs": [],
   "source": []
  },
  {
   "cell_type": "code",
   "execution_count": null,
   "id": "acda78f1",
   "metadata": {},
   "outputs": [],
   "source": []
  },
  {
   "cell_type": "markdown",
   "id": "ecde19b3",
   "metadata": {},
   "source": [
    "## So sanh file goc va file sua"
   ]
  },
  {
   "cell_type": "code",
   "execution_count": 162,
   "id": "3c63c3a8",
   "metadata": {},
   "outputs": [],
   "source": [
    "def convert_logit_to_score(logit):\n",
    "    res = []\n",
    "    for i in range(0, 36, 6):\n",
    "        x = logit[i:i+6]\n",
    "        res.append(x.index(max(x)))\n",
    "    return res"
   ]
  },
  {
   "cell_type": "code",
   "execution_count": 163,
   "id": "338908d3",
   "metadata": {},
   "outputs": [],
   "source": [
    "org_data = joblib.load('Data/data_final.z')\n",
    "remake_data = joblib.load('Data/data_final_remake.z')\n",
    "org_df = pd.read_csv('Data/processed_data_final.csv')\n",
    "remake_df = pd.read_csv('Data/processed_data_final_remake.csv')\n",
    "columns = remake_df.columns.tolist()[:7]\n",
    "remake_df = remake_df[columns]"
   ]
  },
  {
   "cell_type": "code",
   "execution_count": 164,
   "id": "049a1a5f",
   "metadata": {},
   "outputs": [
    {
     "name": "stdout",
     "output_type": "stream",
     "text": [
      "3658\n",
      "3665\n"
     ]
    }
   ],
   "source": [
    "print(len(org_data))\n",
    "print(len(remake_data))"
   ]
  },
  {
   "cell_type": "code",
   "execution_count": 117,
   "id": "26c40890",
   "metadata": {},
   "outputs": [],
   "source": [
    "# res = []\n",
    "# for i in remake_data:\n",
    "#     x = [i[0]]\n",
    "#     x += convert_logit_to_score(i[1])\n",
    "#     res.append(x)\n",
    "# zzz = pd.DataFrame(res, columns=columns)\n",
    "# zzz.to_csv('Data/processed_data_final_remake.csv')"
   ]
  },
  {
   "cell_type": "code",
   "execution_count": 165,
   "id": "0e497c33",
   "metadata": {},
   "outputs": [],
   "source": [
    "review_in_org_data = [i[0] for i in org_data]\n",
    "review_in_remake_data = [i[0] for i in remake_data]"
   ]
  },
  {
   "cell_type": "code",
   "execution_count": 166,
   "id": "954d3cae",
   "metadata": {},
   "outputs": [
    {
     "name": "stdout",
     "output_type": "stream",
     "text": [
      "3658\n",
      "3665\n"
     ]
    }
   ],
   "source": [
    "print(len(set(review_in_org_data)))\n",
    "print(len(set(review_in_remake_data)))"
   ]
  },
  {
   "cell_type": "code",
   "execution_count": 216,
   "id": "85bc043d",
   "metadata": {},
   "outputs": [
    {
     "name": "stdout",
     "output_type": "stream",
     "text": [
      "3511\n"
     ]
    }
   ],
   "source": [
    "com_reviews = list(set(review_in_org_data).intersection(review_in_remake_data))\n",
    "print(len(com_reviews))"
   ]
  },
  {
   "cell_type": "code",
   "execution_count": 217,
   "id": "8b8bec75",
   "metadata": {},
   "outputs": [],
   "source": [
    "common_samples = []\n",
    "for r in com_reviews:\n",
    "    idx_1, idx_2 = review_in_org_data.index(r), review_in_remake_data.index(r)\n",
    "    if utils.compare_arrays(org_data[idx_1][1], remake_data[idx_2][1]):\n",
    "        common_samples.append([r, org_data[idx_1][1]])"
   ]
  },
  {
   "cell_type": "code",
   "execution_count": 218,
   "id": "1fbb2d37",
   "metadata": {},
   "outputs": [
    {
     "data": {
      "text/plain": [
       "2508"
      ]
     },
     "execution_count": 218,
     "metadata": {},
     "output_type": "execute_result"
    }
   ],
   "source": [
    "len(common_samples)"
   ]
  },
  {
   "cell_type": "code",
   "execution_count": 196,
   "id": "b9032339",
   "metadata": {},
   "outputs": [],
   "source": [
    "# common_samples[0]"
   ]
  },
  {
   "cell_type": "code",
   "execution_count": 194,
   "id": "649f239d",
   "metadata": {},
   "outputs": [],
   "source": [
    "# only_origin_samples, only_remake_samples = [], []\n",
    "# for r in com_reviews:\n",
    "#     idx_1, idx_2 = review_in_org_data.index(r), review_in_remake_data.index(r)\n",
    "#     if r not in \n",
    "#     if utils.compare_arrays(org_data[idx_1][1], remake_data[idx_2][1]):\n",
    "#         common_samples.append([r, org_data[idx_1][1]])"
   ]
  },
  {
   "cell_type": "code",
   "execution_count": null,
   "id": "e8a52328",
   "metadata": {},
   "outputs": [],
   "source": []
  },
  {
   "cell_type": "code",
   "execution_count": null,
   "id": "f1deea0f",
   "metadata": {},
   "outputs": [],
   "source": []
  },
  {
   "cell_type": "code",
   "execution_count": null,
   "id": "79b0a930",
   "metadata": {},
   "outputs": [],
   "source": []
  },
  {
   "cell_type": "markdown",
   "id": "9062483b",
   "metadata": {},
   "source": [
    "## Build data so sánh chất lượng data gốc và data sửa"
   ]
  },
  {
   "cell_type": "code",
   "execution_count": null,
   "id": "8f37baa8",
   "metadata": {},
   "outputs": [],
   "source": [
    "# # store_file = 'Data/data_final.z'\n",
    "# store_file = 'Data/data_train_1.z'\n",
    "# feature = [x[0] for x in data]\n",
    "# label = [x[1:] for x in data]\n",
    "# data = [[fe,lb] for fe,lb in zip(feature,label)]\n",
    "# import joblib\n",
    "# joblib.dump(data, store_file)"
   ]
  },
  {
   "cell_type": "code",
   "execution_count": 227,
   "id": "af36cc6e",
   "metadata": {},
   "outputs": [],
   "source": [
    "test_data = common_samples[1000:-1000]\n",
    "test_review = [i[0] for i in test_data]"
   ]
  },
  {
   "cell_type": "code",
   "execution_count": 228,
   "id": "e4b0ac1f",
   "metadata": {},
   "outputs": [],
   "source": [
    "org_train_data, remake_train_data = [], []\n",
    "for sample in org_data:\n",
    "    if sample[0] not in test_review:\n",
    "        org_train_data.append(sample)\n",
    "        \n",
    "for sample in remake_data:\n",
    "    if sample[0] not in test_review:\n",
    "        remake_train_data.append(sample)"
   ]
  },
  {
   "cell_type": "code",
   "execution_count": 229,
   "id": "bf8b6eb3",
   "metadata": {},
   "outputs": [
    {
     "data": {
      "text/plain": [
       "3150"
      ]
     },
     "execution_count": 229,
     "metadata": {},
     "output_type": "execute_result"
    }
   ],
   "source": [
    "len(org_train_data)"
   ]
  },
  {
   "cell_type": "code",
   "execution_count": 230,
   "id": "2a6bb56e",
   "metadata": {},
   "outputs": [],
   "source": [
    "# org_train_data[0]"
   ]
  },
  {
   "cell_type": "code",
   "execution_count": 231,
   "id": "464239ae",
   "metadata": {},
   "outputs": [
    {
     "data": {
      "text/plain": [
       "3157"
      ]
     },
     "execution_count": 231,
     "metadata": {},
     "output_type": "execute_result"
    }
   ],
   "source": [
    "len(remake_train_data)"
   ]
  },
  {
   "cell_type": "code",
   "execution_count": 232,
   "id": "de296ca1",
   "metadata": {},
   "outputs": [
    {
     "data": {
      "text/plain": [
       "['Data/org_train_3.z']"
      ]
     },
     "execution_count": 232,
     "metadata": {},
     "output_type": "execute_result"
    }
   ],
   "source": [
    "store_file = 'Data/org_train_3.z'\n",
    "data = org_train_data\n",
    "feature = [x[0] for x in data]\n",
    "label = [x[1] for x in data]\n",
    "data = [[fe,lb] for fe,lb in zip(feature,label)]\n",
    "import joblib\n",
    "joblib.dump(data, store_file)"
   ]
  },
  {
   "cell_type": "code",
   "execution_count": 233,
   "id": "76d83651",
   "metadata": {},
   "outputs": [
    {
     "data": {
      "text/plain": [
       "['Data/remake_train_3.z']"
      ]
     },
     "execution_count": 233,
     "metadata": {},
     "output_type": "execute_result"
    }
   ],
   "source": [
    "store_file = 'Data/remake_train_3.z'\n",
    "data = remake_train_data\n",
    "feature = [x[0] for x in data]\n",
    "label = [x[1] for x in data]\n",
    "data = [[fe,lb] for fe,lb in zip(feature,label)]\n",
    "import joblib\n",
    "joblib.dump(data, store_file)"
   ]
  },
  {
   "cell_type": "code",
   "execution_count": 234,
   "id": "3c93db21",
   "metadata": {},
   "outputs": [
    {
     "data": {
      "text/plain": [
       "['Data/test_3.z']"
      ]
     },
     "execution_count": 234,
     "metadata": {},
     "output_type": "execute_result"
    }
   ],
   "source": [
    "store_file = 'Data/test_3.z'\n",
    "data = test_data\n",
    "feature = [x[0] for x in data]\n",
    "label = [x[1] for x in data]\n",
    "data = [[fe,lb] for fe,lb in zip(feature,label)]\n",
    "import joblib\n",
    "joblib.dump(data, store_file)"
   ]
  },
  {
   "cell_type": "code",
   "execution_count": 215,
   "id": "63febdca",
   "metadata": {},
   "outputs": [],
   "source": [
    "# data[0]"
   ]
  },
  {
   "cell_type": "code",
   "execution_count": null,
   "id": "dd9c2361",
   "metadata": {},
   "outputs": [],
   "source": []
  },
  {
   "cell_type": "code",
   "execution_count": null,
   "id": "06c286b9",
   "metadata": {},
   "outputs": [],
   "source": []
  },
  {
   "cell_type": "code",
   "execution_count": 239,
   "id": "59c72857",
   "metadata": {},
   "outputs": [],
   "source": []
  },
  {
   "cell_type": "code",
   "execution_count": null,
   "id": "bc2cf884",
   "metadata": {},
   "outputs": [],
   "source": []
  }
 ],
 "metadata": {
  "kernelspec": {
   "display_name": "Python 3 (ipykernel)",
   "language": "python",
   "name": "python3"
  },
  "language_info": {
   "codemirror_mode": {
    "name": "ipython",
    "version": 3
   },
   "file_extension": ".py",
   "mimetype": "text/x-python",
   "name": "python",
   "nbconvert_exporter": "python",
   "pygments_lexer": "ipython3",
   "version": "3.8.10"
  }
 },
 "nbformat": 4,
 "nbformat_minor": 5
}
