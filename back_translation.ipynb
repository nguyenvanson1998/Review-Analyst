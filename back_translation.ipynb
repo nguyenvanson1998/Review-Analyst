{
 "cells": [
  {
   "cell_type": "markdown",
   "metadata": {},
   "source": [
    "Link:<br> \n",
    "https://www.youtube.com/watch?v=YapTts_An9A&t=579s <br>\n",
    "https://cloud.google.com/translate/docs/setup#python"
   ]
  },
  {
   "cell_type": "code",
   "execution_count": 1,
   "metadata": {},
   "outputs": [],
   "source": [
    "# import joblib\n",
    "# import utils\n",
    "# import torch\n",
    "# def read_data(data_file):\n",
    "#     return joblib.load(data_file)\n",
    "\n",
    "# data_file = 'Data/clean-train.z'\n",
    "# data = read_data(data_file)\n",
    "# sents = [i[0] for i in data]\n",
    "# # sent\n",
    "# labels = utils.convert_logits(torch.tensor([i[1] for i in data]))\n",
    "# # print(labels)"
   ]
  },
  {
   "cell_type": "code",
   "execution_count": 22,
   "metadata": {},
   "outputs": [],
   "source": [
    "# count = 0\n",
    "# for idx, i in enumerate(labels):\n",
    "#     # print(idx)\n",
    "#     # print(i)\n",
    "#     # print(i)\n",
    "#     # print(torch.all(i))\n",
    "#     if torch.any(i) == False:\n",
    "#         count += 1\n",
    "#         print(idx)\n",
    "#     # break\n",
    "# print(count)"
   ]
  },
  {
   "cell_type": "code",
   "execution_count": 21,
   "metadata": {},
   "outputs": [],
   "source": [
    "# data[145]"
   ]
  },
  {
   "cell_type": "markdown",
   "metadata": {},
   "source": [
    "# Back translation"
   ]
  },
  {
   "cell_type": "code",
   "execution_count": 1,
   "metadata": {},
   "outputs": [
    {
     "name": "stdout",
     "output_type": "stream",
     "text": [
      "3665\n"
     ]
    }
   ],
   "source": [
    "import joblib\n",
    "# import utils\n",
    "# import torch\n",
    "import os\n",
    "def read_data(data_file):\n",
    "    return joblib.load(data_file)\n",
    "\n",
    "data_file = 'Data/data_final_remake.z'\n",
    "data = read_data(data_file)\n",
    "sents = [i[0] for i in data]\n",
    "print(len(sents))"
   ]
  },
  {
   "cell_type": "code",
   "execution_count": 5,
   "metadata": {},
   "outputs": [],
   "source": [
    "os.environ['GOOGLE_APPLICATION_CREDENTIALS'] = r'key-rnd-vps.json'\n",
    "\n",
    "def translate_text(target, text):\n",
    "    \"\"\"Translates text into the target language.\n",
    "\n",
    "    Target must be an ISO 639-1 language code.\n",
    "    See https://g.co/cloud/translate/v2/translate-reference#supported_languages\n",
    "    \"\"\"\n",
    "    import six\n",
    "    from google.cloud import translate_v2 as translate\n",
    "\n",
    "    translate_client = translate.Client()\n",
    "\n",
    "    if isinstance(text, six.binary_type):\n",
    "        text = text.decode(\"utf-8\")\n",
    "\n",
    "    # Text can also be a sequence of strings, in which case this method\n",
    "    # will return a sequence of results for each text.\n",
    "    result = translate_client.translate(text, target_language=target)\n",
    "\n",
    "    # print(u\"Text: {}\".format(result[\"input\"]))\n",
    "    # print(u\"Translation: {}\".format(result[\"translatedText\"]))\n",
    "    # print(u\"Detected source language: {}\".format(result[\"detectedSourceLanguage\"]))\n",
    "    return result[\"translatedText\"]"
   ]
  },
  {
   "cell_type": "code",
   "execution_count": 6,
   "metadata": {},
   "outputs": [
    {
     "name": "stdout",
     "output_type": "stream",
     "text": [
      "My name is Nam\n",
      "Tôi tên là nam\n"
     ]
    }
   ],
   "source": [
    "results = translate_text('en', 'Tôi tên là Nam')\n",
    "print(results)\n",
    "\n",
    "results = translate_text('vi', results)\n",
    "print(results)"
   ]
  },
  {
   "cell_type": "code",
   "execution_count": 4,
   "metadata": {},
   "outputs": [],
   "source": [
    "augment_data = []"
   ]
  },
  {
   "cell_type": "code",
   "execution_count": null,
   "metadata": {},
   "outputs": [],
   "source": [
    "import timeit\n",
    "# augment_data = []\n",
    "# https://cloud.google.com/translate/docs/languages\n",
    "# trans_langs = ['en', 'fr', 'nl', 'ru', 'tl', 'pl', 'gl', 'de', 'el']\n",
    "# trans_langs = ['en', 'fr', 'nl', 'ru', 'tl', 'pl']\n",
    "trans_langs = ['en', 'fr', 'ko', 'ru', 'tl']\n",
    "# trans_langs = ['ko']\n",
    "start = timeit.default_timer()\n",
    "for trans_lang in trans_langs:\n",
    "    augment_data = []\n",
    "    store_file = 'Data/Data_Aug/'+'_'.join([trans_lang, 'data_final.z'])\n",
    "    for idx, sample in enumerate(data):\n",
    "        text = sample[0]\n",
    "        # print(sent)\n",
    "        # break\n",
    "        trans_text = translate_text(trans_lang, text)\n",
    "        aug_text = translate_text('vi', trans_text)\n",
    "        augment_data.append([aug_text, sample[1]])\n",
    "        # print(text)\n",
    "        # print(aug_text)\n",
    "        # break\n",
    "    joblib.dump(augment_data, store_file) \n",
    "#     break\n",
    "stop = timeit.default_timer()\n",
    "print('Time: ', stop - start)  "
   ]
  },
  {
   "cell_type": "code",
   "execution_count": null,
   "metadata": {},
   "outputs": [],
   "source": [
    "# joblib.dump(clean_data, store_file)"
   ]
  },
  {
   "cell_type": "code",
   "execution_count": 12,
   "metadata": {},
   "outputs": [
    {
     "name": "stdout",
     "output_type": "stream",
     "text": [
      "Nơi đó thật kinh khủng, chúng tôi nhìn thấy những con gián lớn đang bò trên sân thượng ngay bên cạnh chúng tôi. Vấn đề vệ sinh thực sự tồi tệ, những chiếc nĩa và đồ đan rất tệ cần được rửa sạch. Tránh nhà hàng này !\n",
      "Nơi đó thật kinh khủng, chúng tôi nhìn thấy những con gián lớn đang bò trên sân thượng ngay bên cạnh chúng tôi. Vệ sinh thực sự rất tệ, nĩa và quần áo dệt kim quá tệ nên chúng cần được giặt sạch. Tránh nhà hàng này!\n",
      "\n",
      "\n",
      "Quán sạch sẽ, món ăn tươi ngon, giá lại rẻ\n",
      "Quán sạch sẽ, đồ ăn tươi ngon, giá rẻ.\n",
      "\n",
      "\n",
      "Phục vụ mãi mãi, thức ăn không ngon, và họ thậm chí còn tính phí bạn sử dụng khăn ướt trên bàn! Họ liên tục bỏ thức ăn vào nhầm bàn và phải tìm xem ai lấy gì. Chỉ là khủng khiếp. Cách định giá quá cao là tốt. Đáng lẽ chúng ta nên để một lần uống nước và một cốc bia mất gần 30 phút để lấy! Lượt xem vẫn ổn, nhưng quầy bar khách sạn của chúng tôi có tầm nhìn đẹp hơn và ít nhất là dịch vụ nhanh hơn! Đừng lãng phí tiền của bạn ở đây, xin vui lòng !\n",
      "Phục vụ mãi mà đồ ăn không ngon, lại còn tính tiền bạn dùng khăn ướt lau trên bàn! Họ liên tục đặt thức ăn trên bàn sai và phải tìm xem ai lấy gì. Thật là khủng khiếp. Cách định giá cao là tốt. Đáng lẽ chúng ta nên để một ly nước và một ly bia mất gần 30 phút! Quan điểm là tốt, nhưng quầy bar khách sạn của chúng tôi có tầm nhìn đẹp hơn và ít nhất là dịch vụ nhanh hơn! Đừng lãng phí tiền của bạn ở đây, xin vui lòng!\n",
      "\n",
      "\n",
      "Nhiều món đăc trưng Vú nàng nướng mỡ hành, bọ biển, bào ngư, cá Tà Ma, cá Dì,... có món sứa nước leo ngon\n",
      "Nhiều món đặc trưng Ốc vú nàng nướng mỡ hành, bọ biển, bào ngư, cá Tà Ma, cá Dì,… có món sứa leo ngon tuyệt cú mèo.\n",
      "\n",
      "\n",
      "Không phải là một cách tồi để đi giữa Sài Gòn và Vũng Tàu chỉ mất khoảng một giờ 20 phút và bạn không phải lo lắng về giao thông. Những chiếc thuyền khá cũ. Họ có sẵn áo phao dưới mỗi ghế ngồi và không có sự cố nào khiến tôi tin rằng họ là những người lái tàu hoặc lái tàu không an toàn. Giá vé ngày thường là 200.000 đồng mỗi chiều và vé ngày cuối tuần lên đến 250.000 đồng mỗi chiều tính đến tháng 6 2016 .\n",
      "Một con đường không tồi để đi giữa Sài Gòn và Vũng Tàu chỉ mất khoảng 1 giờ 20 phút và bạn không phải lo lắng về giao thông. Những chiếc thuyền khá cũ. Họ có sẵn áo phao dưới mỗi chỗ ngồi và không có sự cố nào khiến tôi tin rằng họ là những người lái đò hoặc lái đò không an toàn. Giá vé ngày thường 200.000 đồng mỗi chiều và vé cuối tuần lên đến 250.000 đồng một chiều tính đến tháng 6/2016.\n",
      "\n",
      "\n",
      "Phòng và hồ bơi với tầm nhìn tuyệt vời để ngắm bình minh\n",
      "Phòng và hồ bơi với tầm nhìn tuyệt vời để ngắm bình minh\n",
      "\n",
      "\n",
      "Mình ở Quy Nhơn từ nhỏ giờ. Thỉnh thoảng lâu lâu có bạn vào hay thuê xe máy để đi chơi. Mình cũng thử thuê ở nhiều chỗ khác nhau nhưng chỉ cảm thấy hài lòng với mỗi chổ của anh Hoài Bảo thôi. Xe ga hay xe số cũng đều mới kít, sạch sẽ, máy êm hơn xe nhà nữa í, đi xa đi gần đều chạy tốt. Đợt rồi mấy anh chị mình vào thuê xe máy và khen rất nhiều làm mình cũng vui theo, chúc cửa hàng ngày càng phát triển, làm ăn phát đạt, vẫn luôn giữ vững nhiệt huyết và cái tâm với nghề. Bắn tym\n",
      "Tôi đã ở Quy Nhơn từ khi tôi còn là một đứa trẻ. Thỉnh thoảng, một người bạn vào hoặc thuê xe máy để đi chơi. Mình cũng đã thử thuê ở nhiều nơi khác nhau nhưng chỉ thấy ưng ý với mỗi nơi của Hoài Bão. Xe tay ga hay xe còn mới, sạch sẽ, máy êm hơn xe nhà, đi xa gần đều chạy tốt. Thời gian qua được anh chị em thuê xe ôm khen rất nhiều khiến mình cũng rất vui, chúc shop ngày càng phát triển, làm ăn phát đạt, luôn giữ vững tâm huyết và cái tâm với nghề. Bắn tim\n",
      "\n",
      "\n",
      "Bãi biển và cảnh biển đẹp, dịch vụ ổn không quá đắt, trải nghiệm đi ca nô ra đảo cho cảm giác mạo hiểm phấn khích.\n",
      "Bãi biển và cảnh biển đẹp, dịch vụ tốt, không quá đắt, trải nghiệm đi ca nô ra đảo mang lại cảm giác mạo hiểm và thích thú.\n",
      "\n",
      "\n",
      "Nhà thờ Mằng Lăng nằm cách thành phố Tuy Hoà, Phú Yên khoảng 35km về phía Bắc và là một trong những nhà thờ lâu đời nhất ở Phú Yên nói riêng và Việt Nam nói chung. Điểm nổi bật nhất nhà thờ chính là lối kiến trúc Gothic đặc sắc đã có từ cách đây khoảng 1200 năm trước Công Nguyên. Vào cổng miễn phí Gửi xe gần tiệm bán nước kế bên free nhé\n",
      "Nhà thờ Mằng Lăng nằm cách thành phố Tuy Hòa, Phú Yên khoảng 35km về phía Bắc và là một trong những nhà thờ cổ nhất ở Phú Yên nói riêng và Việt Nam nói chung. Điểm nổi bật nhất của nhà thờ là kiến trúc Gothic độc đáo có niên đại khoảng 1200 năm trước Công nguyên. Vào cổng miễn phí. Gần quán nước bên cạnh có gửi xe miễn phí\n",
      "\n",
      "\n",
      "Sạch sẽ , yên tĩnh , ấm cúng\n",
      "Sạch sẽ, yên tĩnh, ấm cúng\n",
      "\n",
      "\n"
     ]
    }
   ],
   "source": [
    "# x = read_data(store_file)\n",
    "# print(len(x))\n",
    "\n",
    "for idx, sample in enumerate(x[:10]):\n",
    "    print(data[idx][0])\n",
    "    print(sample[0])\n",
    "    print('\\n')"
   ]
  },
  {
   "cell_type": "code",
   "execution_count": 14,
   "metadata": {},
   "outputs": [
    {
     "data": {
      "text/plain": [
       "['Bánh có nhiều tôm lớn, tôm giòn nằm trên lớp vỏ mềm thơm ngon. Món ăn thuộc loại cuốn sâu, tức là cuốn với rau, dưa chuột, giá đỗ và một lớp vỏ mềm. Hơn nữa, đặc sản nhất định phải thử của món ăn là nước chấm chua ngọt Bình Định, thơm ngon khó tả. Đặc biệt, quán có món sữa bắp ngon nhất, kết hợp Combo này với bánh xèo tạo thành một cặp trời sinh. Ai không thích có thể bỏ qua tôm, có thể đổi sang bò hoặc mực, ngon không gì bằng.',\n",
       " 'Trên đường đến Quy Nhơn, tôi lo lắng về việc không có pizza, nhưng nhờ foody tôi đã tìm thấy nhà hàng này. Bài đánh giá là tốt nên tôi rất vui mừng và wow, điều đó thực sự tốt, mọi người! Ấn tượng đầu tiên là cửa hàng cách nhà mình 200m, gần biển, đồ ăn ngon, bổ. Gnocchi sốt ngon, pizza thơm, phô mai béo ngậy, size 25cm mà chưa tới 150k yếu vì rẻ là có thật và sườn thì ngon. Cheesecake có vị chua ngọt và bánh brownie hơi dai, rất ngon. Các nhân viên rất tốt và thậm chí còn giới thiệu cho tôi một con chó thuộc giống này và điều này. Quán này luôn hết QN, chúng ta cần thu hút nhiều người đến keke',\n",
       " 'Các món ở đây không có gì đặc sắc, có lẽ nấu kiểu nhà hàng cho khách tây nên món không có cái j đặc trưng, món nhiều nhưng lại kém, nêm rất nguội, không hợp khẩu vị Việt Nam.',\n",
       " 'Lần thứ 2 quay lại đây, vì nổi bật là quán cafe lớn nhất Quy Nhơn nên mình đưa bạn đến đây, nhưng thực ra còn nhiều lựa chọn khác hay hơn, thật sự thì green chỉ có không gian to và đẹp thôi phải không? Đồ uống thất bại hoàn toàn sinh tố cam có tính axit như pha nước nhưng chắc chắn không phải sinh tố cam cà chua dứa nguyên chất như lần trước mình uống cappuccino dở nên rút kinh nghiệm không gọi thêm vài món nữa. Nhân viên thái độ không thân thiện, khách không cười. Khách nhậu thì lấy chổi ra lau rất mất thiện cảm.',\n",
       " 'Rất khuyến khích thanh thể thao này',\n",
       " 'Khu chợ 2. Khu bán thực phẩm và các mặt hàng khác. Thức ăn cũng tươi. Nhiều du khách ghé mua. Nằm trên đường Nguyễn Huệ.',\n",
       " 'Hải sản tươi và nước súp rất tuyệt. Giá cả hợp lý, không rẻ, rẻ.',\n",
       " 'Tôi đi ô tô 7 chỗ để từ sân bay về. Thái độ của tài xế không được vui vẻ khi đón chúng tôi. Mặt mày cau có và thái độ dửng dưng. Gia đình còn lại 7 người. Tài xế mở cốp để tôi một mình cất hành lý sau đó tháo 2 ghế sau ra để chất vali 5 người trong gia đình phải ngồi ghế giữa. 2 người ngồi ghế trước. Vừa lên xe đã thấy nóng. Tôi yêu cầu tài xế bật AC, tài xế nói tôi đậu xe ngoài nắng cả buổi sáng nên rất nóng. Chạy được 10 phút vẫn không thấy điều hòa bật. Nhưng chiếc xe nóng như một cái lò dành cho 5 người. Mình ngồi co ro bên nhau. Tôi không trả lời khi tôi hỏi lại. Sau đó tôi hỏi quá nhiều để nói rằng nó đã được mở. Đến gần nhà thì thấy quạt thổi mát rượi. Tôi ngồi trên xe 30 phút mà cảm giác như bị tra tấn. Tôi yêu cầu công ty cho xem. kiểm điểm thái độ làm việc của tài xế xe 6898 lúc 10h ngày 10/7. phê bình nghiêm túc.',\n",
       " 'Bãi Đá Trứng có những viên đá hình tròn hoặc bầu dục giống những quả trứng khủng long thời xa xưa. Nơi đây rất thích hợp cho những tín đồ mê đồ lưu niệm &quot;tự sướng&quot;. Bãi đá khá nhỏ, nhưng rất đáng trải nghiệm khi đến Quy Nhơn. Đường vào bãi Trứng mát mẻ, hoang sơ. Hai bên đường rợp bóng cây xanh và có những quán cà phê để dừng chân, thư giãn. Tại đây bạn có thể gửi xe và đi bộ tham quan các địa điểm liền kề như Hòn Chồng, Đền thờ Hàn Mặc Tử, Bãi tắm Hoàng Hậu ...',\n",
       " 'Tàu đánh cá và tàu du lịch ở cùng một chỗ nên bốc mùi kinh khủng, vẫn đang thi công nên lối vào khá bẩn']"
      ]
     },
     "execution_count": 14,
     "metadata": {},
     "output_type": "execute_result"
    }
   ],
   "source": [
    "data_file = 'Data/fr_aug_clean_train.z'\n",
    "data = read_data(data_file)\n",
    "sents = [i[0] for i in data]\n",
    "sents[:10]"
   ]
  },
  {
   "cell_type": "code",
   "execution_count": null,
   "metadata": {},
   "outputs": [],
   "source": []
  }
 ],
 "metadata": {
  "kernelspec": {
   "display_name": "Python 3 (ipykernel)",
   "language": "python",
   "name": "python3"
  },
  "language_info": {
   "codemirror_mode": {
    "name": "ipython",
    "version": 3
   },
   "file_extension": ".py",
   "mimetype": "text/x-python",
   "name": "python",
   "nbconvert_exporter": "python",
   "pygments_lexer": "ipython3",
   "version": "3.8.10"
  },
  "vscode": {
   "interpreter": {
    "hash": "ac26cfb1e5462c4714d19e4b4dbdc8405a0fde67730611e53cbc9e412a975cd7"
   }
  }
 },
 "nbformat": 4,
 "nbformat_minor": 2
}
